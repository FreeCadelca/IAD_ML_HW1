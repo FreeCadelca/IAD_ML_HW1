{
 "cells": [
  {
   "cell_type": "markdown",
   "metadata": {
    "_uuid": "21c25e4f8bb31570029fd6b069131a5d00f84cf1"
   },
   "source": [
    "# Домашнее задание 2 (5 баллов).\n",
    "\n",
    "*Все задания ниже имеют равный вес (5/10)*"
   ]
  },
  {
   "cell_type": "markdown",
   "metadata": {},
   "source": [
    "Код для импорта мы написали за вас (не благодарите, нам не трудно). Дальше код будете писать вы. \n",
    "\n",
    "[Тут](https://habr.com/ru/companies/ruvds/articles/494720/) шпора по pandas. За основу домашнего задания взят ноутбук [отсюда](https://rutube.ru/video/f884aa6ed5f94120b7304506042fe5bb/) (не подглядывайте!)."
   ]
  },
  {
   "cell_type": "code",
   "execution_count": 1,
   "metadata": {
    "_uuid": "568eb2d31004b87d22e119112ae01a1e75105f1d",
    "ExecuteTime": {
     "end_time": "2025-02-13T18:00:57.218853200Z",
     "start_time": "2025-02-13T18:00:56.902584Z"
    }
   },
   "outputs": [],
   "source": [
    "import pprint\n",
    "\n",
    "import pandas as pd\n",
    "import numpy as np\n",
    "\n",
    "pd.set_option('display.max_columns', 9)\n",
    "pd.set_option('display.width', 250)"
   ]
  },
  {
   "cell_type": "markdown",
   "metadata": {},
   "source": [
    "#### Описание данных\n",
    "\n",
    "Автор д/з - плохой человек, который не стал переводить описание с мотивировкой, что весь DS на английском. Так что описание полей будет на английском:\n",
    "\n",
    "1. Account ID\n",
    "- Description: A unique identifier for each social media account in the dataset.\n",
    "- Type: Integer\n",
    "- Example: 1, 2, 3, …\n",
    "2. Username\n",
    "- Description: The username or handle of the social media account.\n",
    "- Type: String\n",
    "- Example: john_doe, tech_guru_22, fitness_freak\n",
    "3. Platform\n",
    "- Description: The social media platform the account is using (Instagram, Twitter, Facebook, TikTok, LinkedIn).\n",
    "- Type: Categorical (String)\n",
    "- Example: Instagram, Twitter, Facebook, TikTok, LinkedIn\n",
    "4. Follower Count\n",
    "- Description: The total number of followers the account has.\n",
    "- Type: Integer\n",
    "- Example: 1500, 245000, 78000\n",
    "5. Posts Per Week\n",
    "- Description: The average number of posts the account creates per week.\n",
    "- Type: Integer\n",
    "- Example: 3, 5, 7\n",
    "6. Engagement Rate\n",
    "- Description: The percentage of interactions (likes, comments, shares) relative to the follower count. This is a measure of how engaging the content is.\n",
    "- Type: Float\n",
    "- Range: 0.01 to 0.15\n",
    "- Example: 0.045 (4.5% engagement rate)\n",
    "7. Ad Spend (USD)\n",
    "- Description: The monthly amount spent on advertising or promoting posts.\n",
    "- Type: Float\n",
    "- Example: 150.75, 850.00, 300.50\n",
    "8. Conversion Rate\n",
    "- Description: The percentage of users who take a desired action (e.g., clicking a link, signing up, etc.) after interacting with an ad.\n",
    "- Type: Float\n",
    "- Range: 0.01 to 0.05 (1% to 5% conversion rate)\n",
    "- Example: 0.025 (2.5% conversion rate)\n",
    "9. Campaign Reach\n",
    "- Description: The total number of unique users reached by the user’s campaigns in a given month.\n",
    "- Type: Integer\n",
    "- Example: 5000, 20000, 15000"
   ]
  },
  {
   "cell_type": "markdown",
   "metadata": {},
   "source": [
    "#### Задание 0\n",
    "\n",
    "Подгрузите данные. Да-да, за чтение таблицы баллов не будет))\n",
    "\n",
    "**Hint**: [pd.read_csv](https://pandas.pydata.org/pandas-docs/stable/reference/api/pandas.read_csv.html)"
   ]
  },
  {
   "cell_type": "code",
   "execution_count": 2,
   "metadata": {
    "ExecuteTime": {
     "end_time": "2025-02-13T18:00:57.233784300Z",
     "start_time": "2025-02-13T18:00:57.218853200Z"
    }
   },
   "outputs": [],
   "source": [
    "df = pd.read_csv(\"data.csv\")"
   ]
  },
  {
   "cell_type": "markdown",
   "metadata": {},
   "source": [
    "#### Задание 1\n",
    "\n",
    "Колонка `Platform` содержит название различных платформ. Давайте представим, что в них есть некоторое отношение порядка. Закодируйте каждую платформу целым числом (от 0 до N) и положите этот \"код\" в новую колонку `Platform_Code`. Теперь вычислите корреляцию Спирмена между всеми парами колонок в датасете (результатом будет таблица корреляций). В качестве ответа выведите значение корреляции `Platform_Code` с `Engagement Rate`. Можете после вывода числа еще коротко написать, что оно означает (нет, это не оценивается).\n",
    "\n",
    "**Hint**: [pd.factorize](https://pandas.pydata.org/pandas-docs/stable/reference/api/pandas.factorize.html), [pd.DataFrame.select_dtypes](https://pandas.pydata.org/pandas-docs/stable/reference/api/pandas.DataFrame.select_dtypes.html), [pd.DataFrame.corr](https://pandas.pydata.org/pandas-docs/stable/reference/api/pandas.DataFrame.corr.html)."
   ]
  },
  {
   "cell_type": "code",
   "execution_count": 3,
   "metadata": {
    "ExecuteTime": {
     "end_time": "2025-02-13T18:00:57.246653400Z",
     "start_time": "2025-02-13T18:00:57.231274800Z"
    }
   },
   "outputs": [
    {
     "data": {
      "text/plain": "0.03138169529349812"
     },
     "execution_count": 3,
     "metadata": {},
     "output_type": "execute_result"
    }
   ],
   "source": [
    "codes, types = pd.factorize(df[\"Platform\"])\n",
    "df[\"Platform_Code\"] = codes\n",
    "corr_spearman = df.select_dtypes(include=['number']).corr(method=\"spearman\")\n",
    "corr_spearman['Platform_Code']['Engagement Rate']"
   ]
  },
  {
   "cell_type": "markdown",
   "source": [
    "Слабая корреляция, очень, практически отсутствует"
   ],
   "metadata": {
    "collapsed": false
   }
  },
  {
   "cell_type": "markdown",
   "metadata": {},
   "source": [
    "#### Задание 2\n",
    "\n",
    "Теперь посмотрите на столбец `Follower Count`. В нем какие-то числа. Иногда бывает полезно провести дискретизацию такого признака. Разбейте все значения в столбце на 4 группы: \"Low\", \"Medium\", \"High\", \"Very High\". Каждая группа включает в себя новые 25% данных. То есть, Low включает в себя 25% самых маленьких значений признака и так далее. Положите значения \"Low\", \"Medium\", \"High\" или \"Very High\" для каждого сэмпла датасета в новую колонку `Follower_Bin`. Теперь посчитайте среднее значение `Engagement Rate` для каждой категории из `Follower_Bin`. В качестве ответа выведите значение для категории \"High\".\n",
    "\n",
    "**Hint**: [pd.qcut](https://pandas.pydata.org/pandas-docs/stable/reference/api/pandas.qcut.html), [pd.groupby](https://pandas.pydata.org/pandas-docs/stable/reference/api/pandas.DataFrame.groupby.html), [pd.DataFrame.mean](https://pandas.pydata.org/pandas-docs/stable/reference/api/pandas.DataFrame.mean.html)"
   ]
  },
  {
   "cell_type": "code",
   "execution_count": 4,
   "metadata": {
    "ExecuteTime": {
     "end_time": "2025-02-13T18:00:57.263016700Z",
     "start_time": "2025-02-13T18:00:57.242648900Z"
    }
   },
   "outputs": [
    {
     "name": "stdout",
     "output_type": "stream",
     "text": [
      "0.0856\n"
     ]
    },
    {
     "name": "stderr",
     "output_type": "stream",
     "text": [
      "C:\\Users\\Dmitriy\\AppData\\Local\\Temp\\ipykernel_13108\\1303953712.py:2: FutureWarning: The default of observed=False is deprecated and will be changed to True in a future version of pandas. Pass observed=False to retain current behavior or observed=True to adopt the future default and silence this warning.\n",
      "  print(df.groupby(\"Follower_Bin\")[\"Engagement Rate\"].median()[\"High\"])\n"
     ]
    }
   ],
   "source": [
    "df[\"Follower_Bin\"] = pd.qcut(df[\"Follower Count\"], 4, labels=[\"Low\", \"Medium\", \"High\", \"Very High\"])\n",
    "print(df.groupby(\"Follower_Bin\")[\"Engagement Rate\"].median()[\"High\"])"
   ]
  },
  {
   "cell_type": "markdown",
   "metadata": {},
   "source": [
    "#### Задание 3\n",
    "\n",
    "Иногда бывает полезно превратить широкую таблицу в длинную (например, для визуализаций сразу нескольких признаков на одной картинке). Да, звучит странно, но именно этим вы сейчас и займетесь. Сделайте новый датафрейм `melted_df`, в который вы поместите каждый сэмпл датасета 6 раз: по одному разу на значение из 'Follower Count', 'Posts Per Week', 'Ad Spend (USD)', 'Conversion Rate', 'Engagement Rate' и 'Campaign Reach'. То есть, вы берете сэмпл из датасета (строку) и превращаете ее в 6 отдельных строк. Каждая отдельная строка в столбце `Metric` имеет имя из предложенного списка 5 признаков, а в столбце `Value` - значение данного сэмпла по этому признаку. Значение `Platform` повторяется в этих 6 строках.\n",
    "\n",
    "Иначе говоря, \n",
    "\n",
    "```json\n",
    "{\n",
    "    \"Account ID\": 1,\n",
    "    \"Username\": \"harrislisa\",\n",
    "    \"Platform\": \"TikTok\",\n",
    "    \"Follower Count\": 54217,\n",
    "    \"Posts Per Week\": 3,\n",
    "    \"Engagement Rate\": 0.0986,\n",
    "    \"Ad Spend (USD)\": 538.1,\n",
    "    \"Conversion Rate\": 0.049,\n",
    "    \"Campaign Reach\": 1308,\n",
    "    \"Platform_Code\": 0,\n",
    "    \"Follower_Bin\": \"Low\"\n",
    "}\n",
    "```\n",
    "\n",
    "превращается в \n",
    "\n",
    "```json\n",
    "{\n",
    "    \"Platform\": \"TikTok\",\n",
    "    \"Metric\": \"Follower Count\",\n",
    "    \"Value\": 54217,\n",
    "},\n",
    "{\n",
    "    \"Platform\": \"TikTok\",\n",
    "    \"Metric\": \"Posts Per Week\",\n",
    "    \"Value\": 3,\n",
    "}, ...\n",
    "```\n",
    "\n",
    "Для каждого уникальной пары значений (`Platform`, `Metric`) посчитайте моду среди всех значений `Value` для этой пары, результат сделайте списком и оставьте только наибольшее. В качестве ответа выведите сумму полученных мод (сумму всех значений в столбце `Value` уже после вычисления мод). Иначе говоря, выведите сумму всех мод значений для всех уникальных пар (`Platform`, `Metric`).\n",
    "\n",
    "**Hint**: [pd.melt](https://pandas.pydata.org/pandas-docs/stable/reference/api/pandas.melt.html), [pd.DataFrame.mode](https://pandas.pydata.org/pandas-docs/stable/reference/api/pandas.DataFrame.mode.html), [pd.DataFrameGroupBy.agg](https://pandas.pydata.org/docs/dev/reference/api/pandas.core.groupby.DataFrameGroupBy.agg.html)"
   ]
  },
  {
   "cell_type": "code",
   "execution_count": 5,
   "metadata": {
    "ExecuteTime": {
     "end_time": "2025-02-13T18:00:57.292492600Z",
     "start_time": "2025-02-13T18:00:57.250988Z"
    }
   },
   "outputs": [
    {
     "name": "stdout",
     "output_type": "stream",
     "text": [
      "Value    3.100285e+06\n",
      "dtype: float64\n"
     ]
    }
   ],
   "source": [
    "melted_df = pd.melt(df, id_vars=['Platform'], var_name=\"Metric\", value_name=\"Value\", value_vars=['Follower Count', 'Posts Per Week', 'Ad Spend (USD)', 'Conversion Rate', 'Engagement Rate','Campaign Reach'])\n",
    "grouped_melted_df = melted_df.groupby([\"Platform\", \"Metric\"])\n",
    "modes = grouped_melted_df.apply(lambda x: x.mode().max())\n",
    "print(modes.sum())\n",
    "# поч так сложно для понимания... Формулировку придумывал сам сатана, отвечаю"
   ]
  },
  {
   "cell_type": "markdown",
   "metadata": {},
   "source": [
    "#### Задание 4\n",
    "\n",
    "А теперь хочется посмотреть на самые популярные аккаунты на разных платформах. Для каждой платформы отсортируйте датафрейм по убыванию количества подписчиков (`Follower Count`) - да, без циклов, сразу для всех платформ сделать сортировку, а затем оставьте только первые три записи для каждой платформы - это и будут три самых популярных аккаунта для каждой платформы. В качестве ответа выведите саму таблицу и минимальное значение `Follower Count` в ней.\n",
    "\n",
    "**Hint**: к *groupby* можно применять функции - это эквивалентно применению функции к каждой \"группе\" внутри groupby-объекта. Читайте [про применение apply к датафрейму после groupby](https://pandas.pydata.org/pandas-docs/stable/user_guide/groupby.html#flexible-apply)."
   ]
  },
  {
   "cell_type": "code",
   "execution_count": 6,
   "metadata": {
    "ExecuteTime": {
     "end_time": "2025-02-13T18:00:57.292492600Z",
     "start_time": "2025-02-13T18:00:57.281660500Z"
    }
   },
   "outputs": [
    {
     "name": "stdout",
     "output_type": "stream",
     "text": [
      "      Account ID         Username   Platform  Follower Count  ...  Conversion Rate  Campaign Reach  Platform_Code  Follower_Bin\n",
      "2403        2404           eric65   Facebook          999982  ...           0.0281           17312              2     Very High\n",
      "4920        4921      teresaellis    Twitter          999919  ...           0.0460            3975              4     Very High\n",
      "5838        5839     edwardthomas     TikTok          999739  ...           0.0325           35523              0     Very High\n",
      "8685        8686  alexandersamuel  Instagram          999726  ...           0.0205           11050              3     Very High\n",
      "9684        9685           sriley    Twitter          999442  ...           0.0225           12783              4     Very High\n",
      "3965        3966         lrodgers  Instagram          999351  ...           0.0335           12391              3     Very High\n",
      "4234        4235    andradewesley     TikTok          999234  ...           0.0481           17188              0     Very High\n",
      "3039        3040          toneill   LinkedIn          999055  ...           0.0174           21862              1     Very High\n",
      "6359        6360    andrewgregory   LinkedIn          998968  ...           0.0351           15552              1     Very High\n",
      "2159        2160     ashleycooper   LinkedIn          998925  ...           0.0156           45956              1     Very High\n",
      "2575        2576     williamwyatt     TikTok          998623  ...           0.0250           43299              0     Very High\n",
      "7576        7577       peggymunoz    Twitter          998216  ...           0.0456           22037              4     Very High\n",
      "7350        7351     patricknoble   Facebook          997915  ...           0.0182           25985              2     Very High\n",
      "2189        2190           jbrown  Instagram          997844  ...           0.0202           14717              3     Very High\n",
      "1689        1690      chavezjason   Facebook          997512  ...           0.0397           45717              2     Very High\n",
      "\n",
      "[15 rows x 11 columns] 997512\n"
     ]
    }
   ],
   "source": [
    "table_top_3 = df.sort_values(\"Follower Count\", ascending=False).groupby(\"Platform\").head(3)\n",
    "# table_top_3 = df.groupby(\"Platform\", group_keys=False).apply(lambda x: x.nlargest(3, \"Follower Count\"))\n",
    "print(table_top_3, table_top_3[\"Follower Count\"].min())"
   ]
  },
  {
   "cell_type": "markdown",
   "metadata": {},
   "source": [
    "#### Задание 5\n",
    "\n",
    "Хочется посчитать какую-то метрику. Мы хотим посмотреть, на отношение разности суммы подписчиков аккаунтов с высокой и низкой конверсией к суммарному охвату рекламы на каждой платформе. То есть, мы делим аккаунты на две группы: высокая и низка конверсия. Затем мы смотрим на то, на сколько сильно влияние аккаунтов с высокой конверсией по сравнению с аккаунтами с низкой конверсией. \n",
    "\n",
    "Давайте определим *Conversion Influence* следущим образом:\n",
    "\n",
    "$$Conversion Influence = \\frac{Total Follower\\ Count (High) - Total Follower\\ Count (Low)}{Total Campaign Reach (High)+Total Campaign Reach (Low)}$$\n",
    "\n",
    "Считать эту метрику мы будет для каждой `Platform`. В этой формуле High - это значения всех сэмплов датасета, в которых `Conversion Rate` больше медианы, а `Low` - не более медианы. `Total Feature` - это суммарное количество значений `Feature` либо по `High` сэмплам, либо по `Low`.\n",
    "\n",
    "Чтобы постоянно не пересчитывать, где High. где Low, сделайте новую колонку в датасете `Conversion_Category`. Положите в нее для каждой строки либо High, либо Low.\n",
    "\n",
    "Выведите платформу с самым большим `Conversion Influence`.\n",
    "\n",
    "**Hint**: данное задание не про *groupby*, а скорее про [pd.pivot_table](https://pandas.pydata.org/pandas-docs/stable/reference/api/pandas.pivot_table.html). Сделайте сводную таблицу, по которой уже можно посчитать суммы, а затем подставить их в формулы."
   ]
  },
  {
   "cell_type": "code",
   "execution_count": 7,
   "metadata": {
    "ExecuteTime": {
     "end_time": "2025-02-13T18:00:57.309445600Z",
     "start_time": "2025-02-13T18:00:57.290492800Z"
    }
   },
   "outputs": [
    {
     "name": "stdout",
     "output_type": "stream",
     "text": [
      "Twitter\n"
     ]
    }
   ],
   "source": [
    "med_conversion_rate = df[\"Conversion Rate\"].median()\n",
    "df[\"Conversion_conversion_rate\"] = df[\"Conversion Rate\"].apply(lambda x: \"High\" if x >= med_conversion_rate else \"Low\")\n",
    "df_platforms = pd.pivot_table(df, values=[\"Follower Count\", \"Campaign Reach\"], index=\"Platform\", columns=[\"Conversion_conversion_rate\"], aggfunc=\"sum\")\n",
    "df_platforms[\"ConversionInfluence\"] = ((df_platforms[\"Follower Count\", \"High\"] - df_platforms[\"Follower Count\", \"Low\"]) / \n",
    "                                       (df_platforms[\"Campaign Reach\", \"High\"] + df_platforms[\"Campaign Reach\", \"Low\"]))\n",
    "print(df_platforms[\"ConversionInfluence\"].idxmax())"
   ]
  },
  {
   "cell_type": "markdown",
   "metadata": {},
   "source": [
    "#### Задание 6\n",
    "\n",
    "Мы знаем, что вам понравилось считать метрики по формуле. Давайте закрепим этот успех. Теперь для каждой платформы посчитаем, на сколько эффективна реклама в разрезе трех последовательных записей в датасете. \n",
    "\n",
    "Для каждой платформы отсортируйте записи в порядке убывания `Posts Per Week`. Будто бы аккаунты, которые постят чаще, используют более \"активные\" стратегии по рекламе. Теперь посчитайте *скользущие суммы с окном 3* по `Campaign Reach` и `Ad Spend (USD)`. Скользящая сумма с окном N - это вы идете по массиву, берете все последовательные тройки записей и суммируете их. Для первых двух записей троек не найдется. Для них скользящее среднее - NaN, что нам не помешает. \n",
    "\n",
    "Теперь для каждого окна посчитайте \n",
    "\n",
    "$$Rolling Efficiency Ratio = \\frac{Rolling Sum of Campaign Reach}{Rolling Sum of Ad Spend}$$\n",
    "\n",
    "По сути, для каждого окна вы посчитаете сколько пользователе привлеклось за один доллар, потреченный на рекламу, в данном окне. Понятно, что значений будет столько, сколько окон. Нам интересно максимально значение такой эффективности для каждой платформы.\n",
    "\n",
    "В качестве ответа выведите название платформы с наибольшей максимальной эффективность и наименьшей (два названия, не одно, не три, ровно два).\n",
    "\n",
    "**Hint**: окна можно делать через [pd.DataFrame.rolling](https://pandas.pydata.org/pandas-docs/stable/reference/api/pandas.DataFrame.rolling.html)."
   ]
  },
  {
   "cell_type": "code",
   "execution_count": 8,
   "metadata": {
    "ExecuteTime": {
     "end_time": "2025-02-13T18:00:57.352552500Z",
     "start_time": "2025-02-13T18:00:57.302435400Z"
    }
   },
   "outputs": [
    {
     "name": "stdout",
     "output_type": "stream",
     "text": [
      "      Platform  level_1  Campaign Reach  Ad Spend (USD)  Rolling Efficiency Ratio\n",
      "0     Facebook       25             NaN             NaN                       NaN\n",
      "1     Facebook       57             NaN             NaN                       NaN\n",
      "2     Facebook       71         74760.0         1259.71                 59.346993\n",
      "3     Facebook       76         67506.0         1631.14                 41.385779\n",
      "4     Facebook      115         77597.0         1300.98                 59.645037\n",
      "...        ...      ...             ...             ...                       ...\n",
      "9995   Twitter     9909         98328.0         1938.06                 50.735271\n",
      "9996   Twitter     9922         72763.0         1669.41                 43.586057\n",
      "9997   Twitter     9926         67615.0         2292.51                 29.493874\n",
      "9998   Twitter     9944         63033.0         2132.56                 29.557433\n",
      "9999   Twitter     9962         50527.0         1744.73                 28.959782\n",
      "\n",
      "[10000 rows x 5 columns]\n",
      "Platform\n",
      "Facebook     388.513469\n",
      "Instagram    371.822908\n",
      "LinkedIn     261.489362\n",
      "TikTok       259.209914\n",
      "Twitter      341.152664\n",
      "Name: Rolling Efficiency Ratio, dtype: float64 \n",
      "\n",
      "Ответ: Facebook TikTok\n"
     ]
    }
   ],
   "source": [
    "df_sorted = df.sort_values(by=[\"Platform\", \"Posts Per Week\"], ascending=[True, False])\n",
    "# Вычисление скользящих сумм по двум фичам в !отдельности! - \"Campaign Reach\" и \"Ad Spend (USD)\"\n",
    "# Сначала датасет сгруппируется по платформам, потом в каждой группе посчитаются роллинг суммы, потом мы разгруппируем, а правильные р.суммы для каждой строки останутся\n",
    "df_sorted_with_rolling_sums = df_sorted.groupby(\"Platform\")[[\"Campaign Reach\", \"Ad Spend (USD)\"]].rolling(window=3).sum().reset_index()\n",
    "df_sorted_with_rolling_sums[\"Rolling Efficiency Ratio\"] = df_sorted_with_rolling_sums[\"Campaign Reach\"] / df_sorted_with_rolling_sums[\"Ad Spend (USD)\"]\n",
    "print(df_sorted_with_rolling_sums)\n",
    "# Мы должны вывести платформы с наименьшей и наибольшей \"максимальной\" эффективностью (т.е. лучшую из лучших и худшую из !лучших!, а не худшую из худших, как я думал предыдущие 2 часа решения...), поэтому сначала ищем все максимальные эффективности для каждой платформы\n",
    "max_efficiencies = df_sorted_with_rolling_sums.groupby(\"Platform\")[\"Rolling Efficiency Ratio\"].max()\n",
    "print(max_efficiencies, \"\\n\")\n",
    "print(\"Ответ:\", max_efficiencies.idxmax(), max_efficiencies.idxmin())"
   ]
  },
  {
   "cell_type": "markdown",
   "metadata": {},
   "source": [
    "#### Задание 7\n",
    "\n",
    "Это еще не все прекрасные функции pandas, которые мы хотим вам показать. Теперь вы посчитаете, сколько аккаунтов на каждой платформе одновременно лучшие по `Engagement Rate` и `Conversion Rate`.\n",
    "\n",
    "Сделайте два отдельных суб-сета. В одном оставьте для каждой платфмормы один топовый аккаунт по `Engagement Rate`, в другом - по `Conversion Rate`. Соедините эти два подмножества по столбцу `Platform` так, что в одной строке есть описание сразу двух аккаунтов-лидеров. Теперь посмотрите равны ли имена аккаунтов в одной строке. Выведите количество строк, в которых названия аккаунтов совпадают."
   ]
  },
  {
   "cell_type": "code",
   "execution_count": 9,
   "metadata": {
    "ExecuteTime": {
     "end_time": "2025-02-13T18:00:57.352552500Z",
     "start_time": "2025-02-13T18:00:57.315262400Z"
    }
   },
   "outputs": [
    {
     "name": "stdout",
     "output_type": "stream",
     "text": [
      "0\n"
     ]
    }
   ],
   "source": [
    "df_top_engagement = df.loc[df.groupby(\"Platform\")[\"Engagement Rate\"].idxmax()]\n",
    "df_top_conversion = df.loc[df.groupby(\"Platform\")[\"Conversion Rate\"].idxmax()]\n",
    "df_top = df_top_engagement.merge(df_top_conversion, on=\"Platform\", how=\"left\")\n",
    "# Просто для читаемости очищаю ненужные колонки\n",
    "df_top.drop(columns=[\"Follower Count_x\", \"Follower Count_y\", \"Campaign Reach_x\", \"Campaign Reach_y\", \"Follower_Bin_x\", \"Follower_Bin_y\", \"Conversion_conversion_rate_x\", \"Conversion_conversion_rate_y\", \"Posts Per Week_x\", \"Posts Per Week_y\", \"Ad Spend (USD)_x\", \"Ad Spend (USD)_y\", \"Platform_Code_x\", \"Platform_Code_y\"], inplace=True)\n",
    "print((df_top[\"Username_x\"] == df_top[\"Username_y\"]).sum())"
   ]
  },
  {
   "cell_type": "markdown",
   "metadata": {},
   "source": [
    "#### Задание 8\n",
    "\n",
    "Давайте теперь что-то попроще сделаем. Например, посчитаем отношение суммарного количества подписчиков на аккаунтах с высокой конверсией к такой же сумме в аккаунтах с низкой конверсией (очевидно, для каждой платформы). По сути, мы просто хотим получить число, которое характеризует, на сколько сильно аккаунты с высокой конверсией \"доминируют\" над аккаунтами с низкой конверсией в плане количества подписчиков.\n",
    "\n",
    "Высокой конверсией будем считать конверсию больше средней. Остальное - низкая. Посчитайте суммы подписчиков для каждой платформы, поделите одно на другое и выведите разницу между самым большим значением и самым маленьким, а также платформы, которые соотвутствуют этим значениям.\n",
    "\n",
    "Используйте магическую команду `%%time`, чтобы замерить, сколько времени ушло на исполнение вашего pandas-скрипта."
   ]
  },
  {
   "cell_type": "code",
   "execution_count": 10,
   "metadata": {
    "ExecuteTime": {
     "end_time": "2025-02-13T18:00:57.353930300Z",
     "start_time": "2025-02-13T18:00:57.322838300Z"
    }
   },
   "outputs": [
    {
     "name": "stdout",
     "output_type": "stream",
     "text": [
      "           Follower Count            Conversion_ratio\n",
      "Conv_class           High        Low                 \n",
      "Platform                                             \n",
      "Facebook        491799506  520352686         0.945127\n",
      "Instagram       468232352  544465076         0.859986\n",
      "LinkedIn        490706904  518510323         0.946378\n",
      "TikTok          482930355  504080020         0.958043\n",
      "Twitter         518386631  499951697         1.036873\n",
      "Ratio between max and min:  0.17688741338715763\n",
      "This is conversion_ratio of [Twitter] - conversion_ratio of [Instagram]\n",
      "CPU times: total: 0 ns\n",
      "Wall time: 7.5 ms\n"
     ]
    }
   ],
   "source": [
    "%%time\n",
    "\n",
    "mid_conv = df[\"Conversion Rate\"].mean()\n",
    "df[\"Conv_class\"] = df[\"Conversion Rate\"].apply(lambda x: \"High\" if x >= mid_conv else \"Low\")\n",
    "df_platforms = pd.pivot_table(df, values=[\"Follower Count\"], index=\"Platform\", columns=[\"Conv_class\"], aggfunc=\"sum\")\n",
    "df_platforms[\"Conversion_ratio\"] = df_platforms[\"Follower Count\", \"High\"] / df_platforms[\"Follower Count\", \"Low\"]\n",
    "# print(df_platforms)\n",
    "\n",
    "print(\"Ratio between max and min: \", df_platforms[\"Conversion_ratio\"].max() - df_platforms[\"Conversion_ratio\"].min())\n",
    "print(f\"This is conversion_ratio of [{df_platforms[\"Conversion_ratio\"].idxmax()}] - conversion_ratio of [{df_platforms[\"Conversion_ratio\"].idxmin()}]\")"
   ]
  },
  {
   "cell_type": "markdown",
   "metadata": {},
   "source": [
    "#### Задание 9\n",
    "\n",
    "А теперь решите задание 8 чисто питоном. Никаких функций и методов pandas. Только питоновские циклы. Замерьте время выполнения кода. Наконец, сравните время в задании 8 и 9. Напишите ниже, кто же победил: чистый python и pandas?\n",
    "\n",
    "**Hint**: Чтобы итерироваться по датафрейму, можно из него сделать генератор через [pd.DataFrame.iterrows](https://pandas.pydata.org/pandas-docs/stable/reference/api/pandas.DataFrame.iterrows.html) или [pd.DataFrame.itertuples](https://pandas.pydata.org/pandas-docs/stable/reference/api/pandas.DataFrame.itertuples.html#pandas.DataFrame.itertuples). К слову, это не все способы итерироваться по датафрейму."
   ]
  },
  {
   "cell_type": "code",
   "execution_count": 11,
   "metadata": {
    "ExecuteTime": {
     "end_time": "2025-02-13T18:00:57.397507200Z",
     "start_time": "2025-02-13T18:00:57.334623200Z"
    }
   },
   "outputs": [
    {
     "name": "stdout",
     "output_type": "stream",
     "text": [
      "{'Facebook': {'conv_ratio': 0.9451272554784121,\n",
      "              'sum_high': 491799506,\n",
      "              'sum_low': 520352686},\n",
      " 'Instagram': {'conv_ratio': 0.8599860168074398,\n",
      "               'sum_high': 468232352,\n",
      "               'sum_low': 544465076},\n",
      " 'LinkedIn': {'conv_ratio': 0.9463782729741332,\n",
      "              'sum_high': 490706904,\n",
      "              'sum_low': 518510323},\n",
      " 'TikTok': {'conv_ratio': 0.958043040468059,\n",
      "            'sum_high': 482930355,\n",
      "            'sum_low': 504080020},\n",
      " 'Twitter': {'conv_ratio': 1.0368734301945974,\n",
      "             'sum_high': 518386631,\n",
      "             'sum_low': 499951697}}\n",
      "Ratio between max and min:  0.17688741338715763\n",
      "This is conversion_ratio of [Twitter] - conversion_ratio of [Instagram]\n",
      "CPU times: total: 0 ns\n",
      "Wall time: 10.5 ms\n"
     ]
    }
   ],
   "source": [
    "%%time\n",
    "\n",
    "import pprint\n",
    "\n",
    "def key_from_value(value, d: dict):\n",
    "    for i in d.keys():\n",
    "        if abs(d[i][\"conv_ratio\"] - value) < 0.00001: # потому что у нас вещественные переменные\n",
    "            return i\n",
    "\n",
    "data = df.drop(columns=[\"Campaign Reach\", \"Follower_Bin\", \"Conversion_conversion_rate\", \"Posts Per Week\", \"Ad Spend (USD)\", \"Platform_Code\", \"Username\", \"Account ID\", \"Engagement Rate\", \"Conv_class\"]).to_dict(orient=\"records\")\n",
    "mid_conv = sum(row[\"Conversion Rate\"] for row in data) / len(data)\n",
    "platforms = set([i[\"Platform\"] for i in data])\n",
    "platforms_sums = {i: {\"sum_high\": 0, \"sum_low\": 0, \"conv_ratio\": None} for i in platforms}\n",
    "for row in data:\n",
    "    platforms_sums[row[\"Platform\"]][\"sum_high\" if row[\"Conversion Rate\"] >= mid_conv else \"sum_low\"] += row[\"Follower Count\"]\n",
    "for platform in platforms_sums.keys():\n",
    "    platforms_sums[platform][\"conv_ratio\"] = platforms_sums[platform][\"sum_high\"] / platforms_sums[platform][\"sum_low\"]\n",
    "# pprint.pprint(platforms_sums)\n",
    "ratios = [platforms_sums[i][\"conv_ratio\"] for i in platforms_sums.keys()]\n",
    "print(\"Ratio between max and min: \", max(ratios) - min(ratios))\n",
    "print(f\"This is conversion_ratio of [{key_from_value(max(ratios), platforms_sums)}] - conversion_ratio of [{key_from_value(min(ratios), platforms_sums)}]\")"
   ]
  },
  {
   "cell_type": "markdown",
   "metadata": {},
   "source": [
    "**А победителем является**: PANDAS"
   ]
  },
  {
   "cell_type": "markdown",
   "metadata": {},
   "source": [
    "#### Задание 10\n",
    "\n",
    "Крайне серьезное задание. Отнеситесь к нему соответствующе. В ячейке ниже напишите ваш любимый анекдот или мем (только без баянов, окей?). Можно плохие. Помните, это задание на полный балл. Проверяющий работу ассистент должен улыбнуться.\n",
    "\n",
    "Если вставляете картинку, то убедитесь, что вы ее не подгружаете локально. А то будет неудобно - потерять балл на этом задании, когда надо было выложить картинку на облако и прокинуть ссылку. И нет, нельзя сюда просто ссылку вставить. Либо ищите, как вставить картинку, либо смешной анекдот. Есть всего два стула - выбирайте..."
   ]
  },
  {
   "cell_type": "markdown",
   "source": [
    "Я, конечно, не собака, но моя любимая команда - лежать... \n",
    "А вообще, pandas с sns, matplotlib'ом и numpy'ем за год смогли выжечь все мои эмоции, включая чувство юмора((( Извините..."
   ],
   "metadata": {
    "collapsed": false
   }
  }
 ],
 "metadata": {
  "kernelspec": {
   "display_name": "default",
   "language": "python",
   "name": "python3"
  },
  "language_info": {
   "codemirror_mode": {
    "name": "ipython",
    "version": 3
   },
   "file_extension": ".py",
   "mimetype": "text/x-python",
   "name": "python",
   "nbconvert_exporter": "python",
   "pygments_lexer": "ipython3",
   "version": "3.11.9"
  }
 },
 "nbformat": 4,
 "nbformat_minor": 1
}
