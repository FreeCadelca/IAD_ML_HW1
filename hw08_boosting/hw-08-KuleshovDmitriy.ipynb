{
 "cells": [
  {
   "cell_type": "markdown",
   "id": "047674ee",
   "metadata": {
    "id": "047674ee"
   },
   "source": [
    "# Часть 1 Бустинг (5 баллов)"
   ]
  },
  {
   "cell_type": "markdown",
   "id": "d8461109",
   "metadata": {
    "id": "d8461109"
   },
   "source": [
    "В этой части будем предсказывать зарплату data scientist-ов в зависимости  от ряда факторов с помощью градиентного бустинга."
   ]
  },
  {
   "cell_type": "markdown",
   "id": "1651e8dd",
   "metadata": {
    "id": "1651e8dd"
   },
   "source": [
    "В датасете есть следующие признаки:\n",
    "\n",
    "\n",
    "\n",
    "* work_year: The number of years of work experience in the field of data science.\n",
    "\n",
    "* experience_level: The level of experience, such as Junior, Senior, or Lead.\n",
    "\n",
    "* employment_type: The type of employment, such as Full-time or Contract.\n",
    "\n",
    "* job_title: The specific job title or role, such as Data Analyst or Data Scientist.\n",
    "\n",
    "* salary: The salary amount for the given job.\n",
    "\n",
    "* salary_currency: The currency in which the salary is denoted.\n",
    "\n",
    "* salary_in_usd: The equivalent salary amount converted to US dollars (USD) for comparison purposes.\n",
    "\n",
    "* employee_residence: The country or region where the employee resides.\n",
    "\n",
    "* remote_ratio: The percentage of remote work offered in the job.\n",
    "\n",
    "* company_location: The location of the company or organization.\n",
    "\n",
    "* company_size: The company's size is categorized as Small, Medium, or Large."
   ]
  },
  {
   "cell_type": "code",
   "execution_count": 1,
   "id": "dbf7595c",
   "metadata": {
    "colab": {
     "base_uri": "https://localhost:8080/",
     "height": 330
    },
    "id": "dbf7595c",
    "outputId": "1b27c9f2-85d2-4971-a592-6b4aaba9f94a",
    "ExecuteTime": {
     "end_time": "2025-06-15T10:08:27.180164200Z",
     "start_time": "2025-06-15T10:08:27.150488Z"
    }
   },
   "outputs": [
    {
     "name": "stdout",
     "output_type": "stream",
     "text": [
      "work_year              int64\n",
      "experience_level      object\n",
      "employment_type       object\n",
      "job_title             object\n",
      "salary                 int64\n",
      "salary_currency       object\n",
      "salary_in_usd          int64\n",
      "employee_residence    object\n",
      "remote_ratio           int64\n",
      "company_location      object\n",
      "company_size          object\n",
      "dtype: object\n"
     ]
    }
   ],
   "source": [
    "import pandas as pd\n",
    "import numpy as np\n",
    "\n",
    "pd.set_option('display.max_columns', 12)\n",
    "pd.set_option('display.width', 300)\n",
    "df = pd.read_csv(\"ds_salaries.csv\")\n",
    "df.head()\n",
    "print(df.dtypes)"
   ]
  },
  {
   "cell_type": "markdown",
   "id": "6696e77a",
   "metadata": {
    "id": "6696e77a"
   },
   "source": [
    "## Задание 1 (0.5 балла) Подготовка"
   ]
  },
  {
   "cell_type": "markdown",
   "id": "0cb13dc7",
   "metadata": {
    "id": "0cb13dc7"
   },
   "source": [
    "\n",
    "\n",
    "*   Разделите выборку на train, val, test (80%, 10%, 10%)\n",
    "*   Выдерите salary_in_usd в качестве таргета\n",
    "*   Найдите и удалите признак, из-за которого возможен лик в данных\n"
   ]
  },
  {
   "cell_type": "code",
   "source": [
    "# from sklearn.model_selection import train_test_split\n",
    "# \n",
    "# y = df['salary_in_usd']\n",
    "# X = df.drop(columns=['salary_in_usd', 'salary'])\n",
    "# # удаляю salary вместе с целевой, потому что это по факту одна и та же переменная, в зависимости от валюты, если не удалить - это будет единственный важный признак (с валютами, конечно) и наша модель будет бесполезной, потому что переводить валюты мы и в калькуляторе умеем\n",
    "# \n",
    "# X_train_full, X_test, y_train_full, y_test = train_test_split(X, y, test_size=0.1,\n",
    "#                                                               random_state=52)  # full_train - 0.9, test - 0.1\n",
    "# # 0.1 / 0.9 = 1/9 = 0.(1)\n",
    "# X_train, X_val, y_train, y_val = train_test_split(X_train_full, y_train_full, test_size=0.111111111,\n",
    "#                                                   random_state=52)  # train - 0.8, val - 0.1"
   ],
   "metadata": {
    "id": "HJNGYRCjYG8A",
    "ExecuteTime": {
     "end_time": "2025-06-15T10:08:27.181166300Z",
     "start_time": "2025-06-15T10:08:27.175138300Z"
    }
   },
   "id": "HJNGYRCjYG8A",
   "execution_count": 2,
   "outputs": []
  },
  {
   "cell_type": "markdown",
   "id": "f63cb01a",
   "metadata": {
    "id": "f63cb01a"
   },
   "source": [
    "## Задание 2 (0.5 балла) Линейная модель"
   ]
  },
  {
   "cell_type": "markdown",
   "id": "647a5cad",
   "metadata": {
    "id": "647a5cad"
   },
   "source": [
    "\n",
    "*   Закодируйте категориальные признаки с помощью OneHotEncoder\n",
    "*   Обучите модель линейной регрессии\n",
    "*   Оцените  качество через MAPE и RMSE\n"
   ]
  },
  {
   "cell_type": "code",
   "source": [
    "# from sklearn.linear_model import LinearRegression\n",
    "# from sklearn.metrics import mean_absolute_percentage_error, mean_squared_error\n",
    "# from sklearn.preprocessing import OneHotEncoder\n",
    "# \n",
    "# numeric_features = X_train.select_dtypes(include=[\"int64\"]).columns\n",
    "# categorical_features = X_train.select_dtypes(include=['object']).columns\n",
    "# \n",
    "# enc = OneHotEncoder(sparse_output=False, handle_unknown='ignore')\n",
    "# \n",
    "# X_train_cat = enc.fit_transform(X_train[categorical_features])\n",
    "# X_val_cat = enc.transform(X_val[categorical_features])\n",
    "# X_test_cat = enc.transform(X_test[categorical_features])\n",
    "# \n",
    "# X_train_num = X_train[numeric_features].to_numpy()\n",
    "# X_val_num = X_val[numeric_features].to_numpy()\n",
    "# X_test_num = X_test[numeric_features].to_numpy()\n",
    "# \n",
    "# X_train_encoded = np.hstack([X_train_cat, X_train_num])\n",
    "# X_val_encoded = np.hstack([X_val_cat, X_val_num])\n",
    "# X_test_encoded = np.hstack([X_test_cat, X_test_num])\n",
    "# \n",
    "# linreg = LinearRegression()\n",
    "# linreg.fit(X_train_encoded, y_train)\n",
    "# \n",
    "# y_val_predicted = linreg.predict(X_val_encoded)\n",
    "# \n",
    "# print('MAPE: ', mean_absolute_percentage_error(y_val, y_val_predicted))\n",
    "# print('RMSE: ', np.sqrt(mean_squared_error(y_val, y_val_predicted)))"
   ],
   "metadata": {
    "id": "DcfWqlvYk0ru",
    "ExecuteTime": {
     "end_time": "2025-06-15T10:08:27.238463800Z",
     "start_time": "2025-06-15T10:08:27.179164300Z"
    }
   },
   "id": "DcfWqlvYk0ru",
   "execution_count": 3,
   "outputs": []
  },
  {
   "cell_type": "markdown",
   "id": "3578292c",
   "metadata": {
    "id": "3578292c"
   },
   "source": [
    "## Задание 3 (0.5 балла) XGboost"
   ]
  },
  {
   "cell_type": "markdown",
   "source": [
    "Начнем с библиотеки xgboost.\n",
    "\n",
    "Обучите модель `XGBRegressor` на тех же данных, что линейную модель, подобрав оптимальные гиперпараметры (`max_depth, learning_rate, n_estimators, gamma`, etc.) по валидационной выборке. Оцените качество итоговой модели (MAPE, RMSE), скорость обучения и скорость предсказания."
   ],
   "metadata": {
    "id": "3RJuwwoty9w1"
   },
   "id": "3RJuwwoty9w1"
  },
  {
   "cell_type": "code",
   "source": [
    "# from xgboost.sklearn import XGBRegressor\n",
    "# \n",
    "# params = {\n",
    "#     'max_depth': [3, 5, 7, 10],  # максимальная глубина дерева\n",
    "#     'learning_rate': [0.01, 0.05, 0.1, 0.3],  # eta\n",
    "#     'n_estimators': [100, 200, 300, 500],  # количество деревьев\n",
    "#     'gamma': [0, 0.1, 0.5, 1.0],  # минимальное снижение функции потерь для разбиения\n",
    "#     'subsample': [0.6, 0.8, 1.0],  # доля выборки для каждого дерева\n",
    "#     'colsample_bytree': [0.6, 0.8, 1.0]  # доля используемых признаков для каждого дерева\n",
    "# }\n",
    "# \n",
    "# xgb = XGBRegressor(random_state=52)"
   ],
   "metadata": {
    "id": "qafqCyE6zGpE",
    "ExecuteTime": {
     "end_time": "2025-06-15T10:08:27.239469800Z",
     "start_time": "2025-06-15T10:08:27.189100700Z"
    }
   },
   "id": "qafqCyE6zGpE",
   "execution_count": 4,
   "outputs": []
  },
  {
   "cell_type": "code",
   "outputs": [],
   "source": [
    "# from sklearn.model_selection import RandomizedSearchCV\n",
    "# import time\n",
    "# \n",
    "# # Для подбора гиперпараметров из такой огромной сетки разумно использовать randsearchcv\n",
    "# random_search = RandomizedSearchCV(\n",
    "#     estimator=xgb,\n",
    "#     param_distributions=params,\n",
    "#     n_iter=50,\n",
    "#     scoring='neg_mean_squared_error',\n",
    "#     cv=3,\n",
    "#     verbose=2,\n",
    "#     random_state=52,\n",
    "#     n_jobs=-1\n",
    "# )\n",
    "# \n",
    "# start_time = time.time()\n",
    "# random_search.fit(X_train_encoded, y_train)\n",
    "# train_time = time.time() - start_time\n",
    "# \n",
    "# best_model = random_search.best_estimator_\n",
    "# print(\"Лучшие гиперпараметры:\", random_search.best_params_)"
   ],
   "metadata": {
    "collapsed": false,
    "ExecuteTime": {
     "end_time": "2025-06-15T10:08:27.240469500Z",
     "start_time": "2025-06-15T10:08:27.196261500Z"
    }
   },
   "id": "b45d6916f5db824",
   "execution_count": 5
  },
  {
   "cell_type": "code",
   "source": [
    "# start_time = time.time()\n",
    "# y_val_predicted = best_model.predict(X_val_encoded)\n",
    "# predict_time = time.time() - start_time\n",
    "# \n",
    "# print('MAPE: ', mean_absolute_percentage_error(y_val, y_val_predicted))\n",
    "# print('RMSE: ', np.sqrt(mean_squared_error(y_val, y_val_predicted)))\n",
    "# print('Training time:', train_time)\n",
    "# print('Predict time:', predict_time)"
   ],
   "metadata": {
    "id": "hvQr6Sw3VpbW",
    "ExecuteTime": {
     "end_time": "2025-06-15T10:08:27.242472800Z",
     "start_time": "2025-06-15T10:08:27.201104200Z"
    }
   },
   "id": "hvQr6Sw3VpbW",
   "execution_count": 6,
   "outputs": []
  },
  {
   "cell_type": "markdown",
   "source": [
    "Как мы видим, наше качество модели слегка увеличилось, но недостаточно для того, чтобы мы останавливались."
   ],
   "metadata": {
    "collapsed": false
   },
   "id": "4fa76153a7b6586e"
  },
  {
   "cell_type": "markdown",
   "source": [
    "## Задание 4 (1 балл) CatBoost"
   ],
   "metadata": {
    "id": "RmWp9wxu318i"
   },
   "id": "RmWp9wxu318i"
  },
  {
   "cell_type": "markdown",
   "source": [
    "Теперь библиотека CatBoost.\n",
    "\n",
    "Обучите модель `CatBoostRegressor`, подобрав оптимальные гиперпараметры (`depth, learning_rate, iterations`, etc.) по валидационной выборке. Оцените качество итоговой модели (MAPE, RMSE), скорость обучения и скорость предсказания."
   ],
   "metadata": {
    "id": "bDWqieZk3-rv"
   },
   "id": "bDWqieZk3-rv"
  },
  {
   "cell_type": "code",
   "source": [
    "# from catboost import CatBoostRegressor\n",
    "# \n",
    "# params = {\n",
    "#     'depth': [4, 6, 8, 10],\n",
    "#     'learning_rate': [0.01, 0.05, 0.1, 0.3],\n",
    "#     'iterations': [100, 200, 300, 500],\n",
    "#     'l2_leaf_reg': [1, 3, 5, 7],\n",
    "#     'subsample': [0.6, 0.8, 1.0]\n",
    "# }\n",
    "# \n",
    "# catboost = CatBoostRegressor(verbose=0, random_state=52)"
   ],
   "metadata": {
    "id": "mbhrOOPJ4X9C",
    "ExecuteTime": {
     "end_time": "2025-06-15T10:08:27.243732600Z",
     "start_time": "2025-06-15T10:08:27.206591400Z"
    }
   },
   "id": "mbhrOOPJ4X9C",
   "execution_count": 7,
   "outputs": []
  },
  {
   "cell_type": "code",
   "outputs": [],
   "source": [
    "# random_search = RandomizedSearchCV(\n",
    "#     estimator=catboost,\n",
    "#     param_distributions=params,\n",
    "#     n_iter=50,\n",
    "#     scoring='neg_mean_squared_error',\n",
    "#     cv=3,\n",
    "#     verbose=2,\n",
    "#     random_state=52,\n",
    "#     n_jobs=-1\n",
    "# )\n",
    "# \n",
    "# start_time = time.time()\n",
    "# random_search.fit(X_train_encoded, y_train)\n",
    "# train_time = time.time() - start_time\n",
    "# \n",
    "# best_model = random_search.best_estimator_\n",
    "# print(\"Лучшие гиперпараметры:\", random_search.best_params_)"
   ],
   "metadata": {
    "collapsed": false,
    "ExecuteTime": {
     "end_time": "2025-06-15T10:08:27.269590900Z",
     "start_time": "2025-06-15T10:08:27.211951900Z"
    }
   },
   "id": "79e5b72d92c14435",
   "execution_count": 8
  },
  {
   "cell_type": "code",
   "source": [
    "# start_time = time.time()\n",
    "# y_val_predicted = best_model.predict(X_val_encoded)\n",
    "# predict_time = time.time() - start_time\n",
    "# \n",
    "# print('MAPE: ', mean_absolute_percentage_error(y_val, y_val_predicted))\n",
    "# print('RMSE: ', np.sqrt(mean_squared_error(y_val, y_val_predicted)))\n",
    "# print('Training time:', train_time)\n",
    "# print('Predict time:', predict_time)"
   ],
   "metadata": {
    "id": "Ztdt39FZVruJ",
    "ExecuteTime": {
     "end_time": "2025-06-15T10:08:27.270590Z",
     "start_time": "2025-06-15T10:08:27.216855100Z"
    }
   },
   "id": "Ztdt39FZVruJ",
   "execution_count": 9,
   "outputs": []
  },
  {
   "cell_type": "markdown",
   "source": [
    "Для применения catboost моделей не обязательно сначала кодировать категориальные признаки, модель может кодировать их сама. Обучите catboost с подбором оптимальных гиперпараметров снова, используя pool для передачи данных в модель с указанием какие признаки категориальные, а какие нет с помощью параметра cat_features. Оцените качество и время. Стало ли лучше?"
   ],
   "metadata": {
    "id": "ruUNeGOk4lho"
   },
   "id": "ruUNeGOk4lho"
  },
  {
   "cell_type": "code",
   "source": [
    "# from catboost import Pool\n",
    "# \n",
    "# train_pool = Pool(data=X_train, label=y_train, cat_features=categorical_features.tolist())\n",
    "# val_pool = Pool(data=X_val, label=y_val, cat_features=categorical_features.tolist())\n",
    "# \n",
    "# params = {\n",
    "#     'depth': [4, 6, 8, 10],\n",
    "#     'learning_rate': [0.01, 0.05, 0.1, 0.3],\n",
    "#     'iterations': [100, 200, 300, 500],\n",
    "#     'l2_leaf_reg': [1, 3, 5, 7],\n",
    "#     'subsample': [0.6, 0.8, 1.0]\n",
    "# }\n",
    "# \n",
    "# catboost = CatBoostRegressor(verbose=0, random_state=52)"
   ],
   "metadata": {
    "id": "5vQr1f9P6cQ5",
    "ExecuteTime": {
     "end_time": "2025-06-15T10:08:27.346845700Z",
     "start_time": "2025-06-15T10:08:27.223962600Z"
    }
   },
   "id": "5vQr1f9P6cQ5",
   "execution_count": 10,
   "outputs": []
  },
  {
   "cell_type": "code",
   "outputs": [],
   "source": [
    "# random_search = RandomizedSearchCV(\n",
    "#     estimator=catboost,\n",
    "#     param_distributions=params,\n",
    "#     n_iter=50,\n",
    "#     scoring='neg_mean_squared_error',\n",
    "#     cv=3,\n",
    "#     verbose=2,\n",
    "#     random_state=52,\n",
    "#     n_jobs=-1\n",
    "# )\n",
    "# \n",
    "# start_time = time.time()\n",
    "# random_search.fit(X_train, y_train,\n",
    "#                   cat_features=categorical_features.tolist())  # используем некодированные датасеты, потому что catboost сам их обрабатывает\n",
    "# train_time = time.time() - start_time\n",
    "# \n",
    "# best_model = random_search.best_estimator_\n",
    "# print(\"Лучшие гиперпараметры:\", random_search.best_params_)"
   ],
   "metadata": {
    "collapsed": false,
    "ExecuteTime": {
     "end_time": "2025-06-15T10:08:27.347850600Z",
     "start_time": "2025-06-15T10:08:27.230388200Z"
    }
   },
   "id": "6e96c8306a32b344",
   "execution_count": 11
  },
  {
   "cell_type": "code",
   "outputs": [],
   "source": [
    "# start_time = time.time()\n",
    "# y_val_predicted = best_model.predict(X_val)\n",
    "# predict_time = time.time() - start_time\n",
    "# \n",
    "# print('MAPE: ', mean_absolute_percentage_error(y_val, y_val_predicted))\n",
    "# print('RMSE: ', np.sqrt(mean_squared_error(y_val, y_val_predicted)))\n",
    "# print('Training time:', train_time)\n",
    "# print('Predict time:', predict_time)"
   ],
   "metadata": {
    "collapsed": false,
    "ExecuteTime": {
     "end_time": "2025-06-15T10:08:27.350844100Z",
     "start_time": "2025-06-15T10:08:27.235900500Z"
    }
   },
   "id": "6e7ab150ad832a04",
   "execution_count": 12
  },
  {
   "cell_type": "markdown",
   "source": [
    "**Ответ:** На удивление, у меня catboost с pool показал себя сильно хуже, чем обычный catboost с encoded датасетом. Метрики ошибок выросли (MAPE на 2%, RMSE на 500), а время стало аномально большим. Вероятно, время обучения такое огромное из-за большого количества деревьев (100-500) и маленького learning rate. Результат стал хуже, скорее всего, из-за большего смещения на увеличение количества деревьев, отсюда увеличение коэффициента регуляризации для баланса и предотвращения переобучения с таким количеством деревьев и маленький lr, модель стала чуть более сложной - с колебаниями, которые оказались лишние, похоже на небольшое переобучение."
   ],
   "metadata": {
    "id": "eA0djixU7L8c"
   },
   "id": "eA0djixU7L8c"
  },
  {
   "cell_type": "markdown",
   "id": "a881ad9d",
   "metadata": {
    "id": "a881ad9d"
   },
   "source": [
    "## Задание 5 (0.5 балла) LightGBM"
   ]
  },
  {
   "cell_type": "markdown",
   "id": "a35f87a6",
   "metadata": {
    "id": "a35f87a6"
   },
   "source": [
    "И наконец библиотека LightGBM - используйте `LGBMRegressor`, снова подберите гиперпараметры, оцените качество и скорость.\n"
   ]
  },
  {
   "cell_type": "code",
   "source": [
    "# from lightgbm import LGBMRegressor\n",
    "# \n",
    "# params = {\n",
    "#     'max_depth': [3, 5, 7, 10],\n",
    "#     'learning_rate': [0.01, 0.05, 0.1, 0.3],\n",
    "#     'n_estimators': [100, 200, 300, 500],\n",
    "#     'num_leaves': [15, 31, 63, 127],\n",
    "#     'subsample': [0.6, 0.8, 1.0],\n",
    "#     'colsample_bytree': [0.6, 0.8, 1.0]\n",
    "# }\n",
    "# \n",
    "# lgbm = LGBMRegressor(random_state=52, verbose=-1)"
   ],
   "metadata": {
    "id": "pMxY8Owp78Ow",
    "ExecuteTime": {
     "end_time": "2025-06-15T10:08:27.384311800Z",
     "start_time": "2025-06-15T10:08:27.240469500Z"
    }
   },
   "id": "pMxY8Owp78Ow",
   "execution_count": 13,
   "outputs": []
  },
  {
   "cell_type": "code",
   "outputs": [],
   "source": [
    "# random_search = RandomizedSearchCV(\n",
    "#     estimator=lgbm,\n",
    "#     param_distributions=params,\n",
    "#     n_iter=50,\n",
    "#     scoring='neg_mean_squared_error',\n",
    "#     cv=3,\n",
    "#     verbose=2,\n",
    "#     random_state=52,\n",
    "#     n_jobs=-1\n",
    "# )\n",
    "# \n",
    "# start_time = time.time()\n",
    "# random_search.fit(X_train_encoded, y_train)\n",
    "# train_time = time.time() - start_time\n",
    "# \n",
    "# best_model = random_search.best_estimator_\n",
    "# print(\"Лучшие гиперпараметры:\", random_search.best_params_)"
   ],
   "metadata": {
    "collapsed": false,
    "ExecuteTime": {
     "end_time": "2025-06-15T10:08:27.386311Z",
     "start_time": "2025-06-15T10:08:27.248157900Z"
    }
   },
   "id": "81e6ea528fc871c9",
   "execution_count": 14
  },
  {
   "cell_type": "code",
   "source": [
    "# start_time = time.time()\n",
    "# y_val_predicted = best_model.predict(X_val_encoded)\n",
    "# predict_time = time.time() - start_time\n",
    "# \n",
    "# print('MAPE: ', mean_absolute_percentage_error(y_val, y_val_predicted))\n",
    "# print('RMSE: ', np.sqrt(mean_squared_error(y_val, y_val_predicted)))\n",
    "# print('Training time:', train_time)\n",
    "# print('Predict time:', predict_time)"
   ],
   "metadata": {
    "id": "M2-WvfIrV556",
    "ExecuteTime": {
     "end_time": "2025-06-15T10:08:27.388312Z",
     "start_time": "2025-06-15T10:08:27.250669800Z"
    }
   },
   "id": "M2-WvfIrV556",
   "execution_count": 15,
   "outputs": []
  },
  {
   "cell_type": "markdown",
   "id": "7c56d873",
   "metadata": {
    "id": "7c56d873"
   },
   "source": [
    "## Задание 6 (2 балла) Сравнение и выводы"
   ]
  },
  {
   "cell_type": "markdown",
   "id": "3a2c1148",
   "metadata": {
    "id": "3a2c1148"
   },
   "source": [
    "Сравните модели бустинга и сделайте про них выводы, какая из моделей показала лучший/худший результат по качеству, скорости обучения и скорости предсказания? Как отличаются гиперпараметры для разных моделей?"
   ]
  },
  {
   "cell_type": "code",
   "outputs": [],
   "source": [
    "# results_table = np.array([[\"Модель\", \"MAPE\", \"RMSE\", \"Training time\", \"Predict time\"],\n",
    "#                           [\"LinearRegression\", \"0.331\", \"44.494\", \"-\", \"-\"],\n",
    "#                           [\"XGBRegressor\", \"0.313\", \"42.695\", \"9.57\", \"0.002\"],\n",
    "#                           [\"CatBoost (encoded)\", \"0.315\", \"42.802\", \"39.08\", \"0.022\"],\n",
    "#                           [\"CatBoost (non-encoded, Pool)\", \"0.338\", \"43.202\", \"237.66\", \"0.002\"],\n",
    "#                           [\"LGBMRegressor\", \"0.328\", \"43.399\", \"19.81\", \"0.0025\"]])\n",
    "# results_table"
   ],
   "metadata": {
    "collapsed": false,
    "ExecuteTime": {
     "end_time": "2025-06-15T10:08:27.389310500Z",
     "start_time": "2025-06-15T10:08:27.259097300Z"
    }
   },
   "id": "68030c6f6c71a9f8",
   "execution_count": 16
  },
  {
   "cell_type": "markdown",
   "source": [
    "**Ответ:** \n",
    "В интересах удобства я сделал целую таблицу с результатами. По ней чётко видно следующее: лидер по всем параметрам сразу - XGBoost. Худшие результаты распределены по разным моделям: худший MAPE у Pool CatBoost, RMSE - LinReg, TrainingTime - Pool CatBoost, Predict time - CatBoost. Однако самая удобная оказалась CatBoost Pool модель, потому что она использует свои встроенные алгоритмы кодирования категориальных данных, поэтому умеет работать без предобработки.\n",
    "\n",
    "Подбор гиперпараметров по всем моделям следующий:\n",
    "XGboost: {'subsample': 1.0, 'n_estimators': 300, 'max_depth': 3, 'learning_rate': 0.1, 'gamma': 0.5, 'colsample_bytree': 0.8}\n",
    "CatBoost: {'subsample': 1.0, 'learning_rate': 0.1, 'l2_leaf_reg': 3, 'iterations': 300, 'depth': 6}\n",
    "CatBoost+Pool: {'subsample': 0.8, 'learning_rate': 0.05, 'l2_leaf_reg': 7, 'iterations': 500, 'depth': 6}\n",
    "LightGBM: {'subsample': 0.6, 'num_leaves': 15, 'n_estimators': 200, 'max_depth': 3, 'learning_rate': 0.05, 'colsample_bytree': 0.8}\n",
    "\n",
    "Заметно, что почти везде количество деревьев - 200-300, но на CatBoost+Pool - 500, что может указывать на переобучение, большую регуляризацию для баланса и маленький lr. Max depth везде 3 или 6, что довольно очевидно (у нас не \"пни\" и не \"секвойи\" на 50 ветвлений, обычные небольшие решающие деревья для бустинга). Интересно, что subsample у lgbm довольно маленький - 60% выборки, в остальном параметры уникальные для каждой модели."
   ],
   "metadata": {
    "id": "gzelUdAl-V9u"
   },
   "id": "gzelUdAl-V9u"
  },
  {
   "cell_type": "markdown",
   "source": [
    "# Часть 2 Кластеризация (5 баллов)"
   ],
   "metadata": {
    "id": "fokm4x1WmxQr"
   },
   "id": "fokm4x1WmxQr"
  },
  {
   "cell_type": "markdown",
   "source": [
    "Будем работать с данными о том, каких исполнителей слушают пользователи музыкального сервиса.\n",
    "\n",
    "Каждая строка таблицы - информация об одном пользователе. Каждый столбец - это исполнитель (The Beatles, Radiohead, etc.)\n",
    "\n",
    "Для каждой пары (пользователь, исполнитель) в таблице стоит число - доля прослушивания этого исполнителя этим пользователем.\n"
   ],
   "metadata": {
    "id": "UZBpHMoNm1Sa"
   },
   "id": "UZBpHMoNm1Sa"
  },
  {
   "cell_type": "code",
   "source": [
    "import pandas as pd\n",
    "\n",
    "ratings_og = pd.read_excel(\"https://github.com/evgpat/edu_stepik_rec_sys/blob/main/datasets/sample_matrix.xlsx?raw=true\",\n",
    "                        engine='openpyxl')\n",
    "ratings_og.head()"
   ],
   "metadata": {
    "colab": {
     "base_uri": "https://localhost:8080/",
     "height": 290
    },
    "id": "nGa-xYikoogL",
    "outputId": "78cf46ec-1aae-4cb9-a457-5a7a47a16248",
    "ExecuteTime": {
     "end_time": "2025-06-15T10:09:02.090548800Z",
     "start_time": "2025-06-15T10:08:27.266591100Z"
    }
   },
   "id": "nGa-xYikoogL",
   "execution_count": 17,
   "outputs": [
    {
     "data": {
      "text/plain": "   user  the beatles  radiohead  deathcab for cutie  coldplay  modest mouse  ...  lamb  michal w. smith  群星  agalloch  meshuggah  yellowcard\n0     0          NaN   0.020417                 NaN       NaN           NaN  ...   NaN              NaN NaN       NaN        NaN         NaN\n1     1          NaN   0.184962            0.024561       NaN           NaN  ...   NaN              NaN NaN       NaN        NaN         NaN\n2     2          NaN        NaN            0.028635       NaN           NaN  ...   NaN              NaN NaN       NaN        NaN         NaN\n3     3          NaN        NaN                 NaN       NaN           NaN  ...   NaN              NaN NaN       NaN        NaN         NaN\n4     4     0.043529   0.086281            0.034590  0.016712      0.015935  ...   NaN              NaN NaN       NaN        NaN         NaN\n\n[5 rows x 1001 columns]",
      "text/html": "<div>\n<style scoped>\n    .dataframe tbody tr th:only-of-type {\n        vertical-align: middle;\n    }\n\n    .dataframe tbody tr th {\n        vertical-align: top;\n    }\n\n    .dataframe thead th {\n        text-align: right;\n    }\n</style>\n<table border=\"1\" class=\"dataframe\">\n  <thead>\n    <tr style=\"text-align: right;\">\n      <th></th>\n      <th>user</th>\n      <th>the beatles</th>\n      <th>radiohead</th>\n      <th>deathcab for cutie</th>\n      <th>coldplay</th>\n      <th>modest mouse</th>\n      <th>...</th>\n      <th>lamb</th>\n      <th>michal w. smith</th>\n      <th>群星</th>\n      <th>agalloch</th>\n      <th>meshuggah</th>\n      <th>yellowcard</th>\n    </tr>\n  </thead>\n  <tbody>\n    <tr>\n      <th>0</th>\n      <td>0</td>\n      <td>NaN</td>\n      <td>0.020417</td>\n      <td>NaN</td>\n      <td>NaN</td>\n      <td>NaN</td>\n      <td>...</td>\n      <td>NaN</td>\n      <td>NaN</td>\n      <td>NaN</td>\n      <td>NaN</td>\n      <td>NaN</td>\n      <td>NaN</td>\n    </tr>\n    <tr>\n      <th>1</th>\n      <td>1</td>\n      <td>NaN</td>\n      <td>0.184962</td>\n      <td>0.024561</td>\n      <td>NaN</td>\n      <td>NaN</td>\n      <td>...</td>\n      <td>NaN</td>\n      <td>NaN</td>\n      <td>NaN</td>\n      <td>NaN</td>\n      <td>NaN</td>\n      <td>NaN</td>\n    </tr>\n    <tr>\n      <th>2</th>\n      <td>2</td>\n      <td>NaN</td>\n      <td>NaN</td>\n      <td>0.028635</td>\n      <td>NaN</td>\n      <td>NaN</td>\n      <td>...</td>\n      <td>NaN</td>\n      <td>NaN</td>\n      <td>NaN</td>\n      <td>NaN</td>\n      <td>NaN</td>\n      <td>NaN</td>\n    </tr>\n    <tr>\n      <th>3</th>\n      <td>3</td>\n      <td>NaN</td>\n      <td>NaN</td>\n      <td>NaN</td>\n      <td>NaN</td>\n      <td>NaN</td>\n      <td>...</td>\n      <td>NaN</td>\n      <td>NaN</td>\n      <td>NaN</td>\n      <td>NaN</td>\n      <td>NaN</td>\n      <td>NaN</td>\n    </tr>\n    <tr>\n      <th>4</th>\n      <td>4</td>\n      <td>0.043529</td>\n      <td>0.086281</td>\n      <td>0.034590</td>\n      <td>0.016712</td>\n      <td>0.015935</td>\n      <td>...</td>\n      <td>NaN</td>\n      <td>NaN</td>\n      <td>NaN</td>\n      <td>NaN</td>\n      <td>NaN</td>\n      <td>NaN</td>\n    </tr>\n  </tbody>\n</table>\n<p>5 rows × 1001 columns</p>\n</div>"
     },
     "execution_count": 17,
     "metadata": {},
     "output_type": "execute_result"
    }
   ]
  },
  {
   "cell_type": "markdown",
   "source": [
    "Будем строить кластеризацию исполнителей: если двух исполнителей слушало много людей примерно одинаковую долю своего времени (то есть векторы близки в пространстве), то, возможно исполнители похожи. Эта информация может быть полезна при построении рекомендательных систем."
   ],
   "metadata": {
    "id": "sGeCPjTAoxWs"
   },
   "id": "sGeCPjTAoxWs"
  },
  {
   "cell_type": "markdown",
   "source": [
    "## Задание 1 (0.5 балла) Подготовка"
   ],
   "metadata": {
    "id": "R37mE-R2_3Wj"
   },
   "id": "R37mE-R2_3Wj"
  },
  {
   "cell_type": "markdown",
   "source": [
    "Транспонируем матрицу ratings, чтобы по строкам стояли исполнители."
   ],
   "metadata": {
    "id": "orn7K6q8plA5"
   },
   "id": "orn7K6q8plA5"
  },
  {
   "cell_type": "code",
   "source": [
    "ratings = ratings_og.transpose()\n",
    "ratings"
   ],
   "metadata": {
    "id": "KU6ljPlCpiwH",
    "ExecuteTime": {
     "end_time": "2025-06-15T10:09:02.179161300Z",
     "start_time": "2025-06-15T10:09:02.084460200Z"
    }
   },
   "id": "KU6ljPlCpiwH",
   "execution_count": 18,
   "outputs": [
    {
     "data": {
      "text/plain": "                        0         1         2     3         4         5     ...         4994         4995    4996         4997    4998         4999\nuser                0.000000  1.000000  2.000000   3.0  4.000000  5.000000  ...  4994.000000  4995.000000  4996.0  4997.000000  4998.0  4999.000000\nthe beatles              NaN       NaN       NaN   NaN  0.043529       NaN  ...     0.007939     0.017884     NaN     0.076923     NaN          NaN\nradiohead           0.020417  0.184962       NaN   NaN  0.086281  0.006322  ...     0.011187          NaN     NaN          NaN     NaN          NaN\ndeathcab for cutie       NaN  0.024561  0.028635   NaN  0.034590       NaN  ...          NaN          NaN     NaN          NaN     NaN     0.027893\ncoldplay                 NaN       NaN       NaN   NaN  0.016712       NaN  ...          NaN          NaN     NaN          NaN     NaN          NaN\n...                      ...       ...       ...   ...       ...       ...  ...          ...          ...     ...          ...     ...          ...\nmichal w. smith          NaN       NaN       NaN   NaN       NaN       NaN  ...          NaN          NaN     NaN          NaN     NaN          NaN\n群星                       NaN       NaN       NaN   NaN       NaN       NaN  ...          NaN          NaN     NaN          NaN     NaN          NaN\nagalloch                 NaN       NaN       NaN   NaN       NaN       NaN  ...          NaN          NaN     NaN          NaN     NaN          NaN\nmeshuggah                NaN       NaN       NaN   NaN       NaN       NaN  ...          NaN          NaN     NaN          NaN     NaN          NaN\nyellowcard               NaN       NaN       NaN   NaN       NaN       NaN  ...          NaN          NaN     NaN          NaN     NaN          NaN\n\n[1001 rows x 5000 columns]",
      "text/html": "<div>\n<style scoped>\n    .dataframe tbody tr th:only-of-type {\n        vertical-align: middle;\n    }\n\n    .dataframe tbody tr th {\n        vertical-align: top;\n    }\n\n    .dataframe thead th {\n        text-align: right;\n    }\n</style>\n<table border=\"1\" class=\"dataframe\">\n  <thead>\n    <tr style=\"text-align: right;\">\n      <th></th>\n      <th>0</th>\n      <th>1</th>\n      <th>2</th>\n      <th>3</th>\n      <th>4</th>\n      <th>5</th>\n      <th>...</th>\n      <th>4994</th>\n      <th>4995</th>\n      <th>4996</th>\n      <th>4997</th>\n      <th>4998</th>\n      <th>4999</th>\n    </tr>\n  </thead>\n  <tbody>\n    <tr>\n      <th>user</th>\n      <td>0.000000</td>\n      <td>1.000000</td>\n      <td>2.000000</td>\n      <td>3.0</td>\n      <td>4.000000</td>\n      <td>5.000000</td>\n      <td>...</td>\n      <td>4994.000000</td>\n      <td>4995.000000</td>\n      <td>4996.0</td>\n      <td>4997.000000</td>\n      <td>4998.0</td>\n      <td>4999.000000</td>\n    </tr>\n    <tr>\n      <th>the beatles</th>\n      <td>NaN</td>\n      <td>NaN</td>\n      <td>NaN</td>\n      <td>NaN</td>\n      <td>0.043529</td>\n      <td>NaN</td>\n      <td>...</td>\n      <td>0.007939</td>\n      <td>0.017884</td>\n      <td>NaN</td>\n      <td>0.076923</td>\n      <td>NaN</td>\n      <td>NaN</td>\n    </tr>\n    <tr>\n      <th>radiohead</th>\n      <td>0.020417</td>\n      <td>0.184962</td>\n      <td>NaN</td>\n      <td>NaN</td>\n      <td>0.086281</td>\n      <td>0.006322</td>\n      <td>...</td>\n      <td>0.011187</td>\n      <td>NaN</td>\n      <td>NaN</td>\n      <td>NaN</td>\n      <td>NaN</td>\n      <td>NaN</td>\n    </tr>\n    <tr>\n      <th>deathcab for cutie</th>\n      <td>NaN</td>\n      <td>0.024561</td>\n      <td>0.028635</td>\n      <td>NaN</td>\n      <td>0.034590</td>\n      <td>NaN</td>\n      <td>...</td>\n      <td>NaN</td>\n      <td>NaN</td>\n      <td>NaN</td>\n      <td>NaN</td>\n      <td>NaN</td>\n      <td>0.027893</td>\n    </tr>\n    <tr>\n      <th>coldplay</th>\n      <td>NaN</td>\n      <td>NaN</td>\n      <td>NaN</td>\n      <td>NaN</td>\n      <td>0.016712</td>\n      <td>NaN</td>\n      <td>...</td>\n      <td>NaN</td>\n      <td>NaN</td>\n      <td>NaN</td>\n      <td>NaN</td>\n      <td>NaN</td>\n      <td>NaN</td>\n    </tr>\n    <tr>\n      <th>...</th>\n      <td>...</td>\n      <td>...</td>\n      <td>...</td>\n      <td>...</td>\n      <td>...</td>\n      <td>...</td>\n      <td>...</td>\n      <td>...</td>\n      <td>...</td>\n      <td>...</td>\n      <td>...</td>\n      <td>...</td>\n      <td>...</td>\n    </tr>\n    <tr>\n      <th>michal w. smith</th>\n      <td>NaN</td>\n      <td>NaN</td>\n      <td>NaN</td>\n      <td>NaN</td>\n      <td>NaN</td>\n      <td>NaN</td>\n      <td>...</td>\n      <td>NaN</td>\n      <td>NaN</td>\n      <td>NaN</td>\n      <td>NaN</td>\n      <td>NaN</td>\n      <td>NaN</td>\n    </tr>\n    <tr>\n      <th>群星</th>\n      <td>NaN</td>\n      <td>NaN</td>\n      <td>NaN</td>\n      <td>NaN</td>\n      <td>NaN</td>\n      <td>NaN</td>\n      <td>...</td>\n      <td>NaN</td>\n      <td>NaN</td>\n      <td>NaN</td>\n      <td>NaN</td>\n      <td>NaN</td>\n      <td>NaN</td>\n    </tr>\n    <tr>\n      <th>agalloch</th>\n      <td>NaN</td>\n      <td>NaN</td>\n      <td>NaN</td>\n      <td>NaN</td>\n      <td>NaN</td>\n      <td>NaN</td>\n      <td>...</td>\n      <td>NaN</td>\n      <td>NaN</td>\n      <td>NaN</td>\n      <td>NaN</td>\n      <td>NaN</td>\n      <td>NaN</td>\n    </tr>\n    <tr>\n      <th>meshuggah</th>\n      <td>NaN</td>\n      <td>NaN</td>\n      <td>NaN</td>\n      <td>NaN</td>\n      <td>NaN</td>\n      <td>NaN</td>\n      <td>...</td>\n      <td>NaN</td>\n      <td>NaN</td>\n      <td>NaN</td>\n      <td>NaN</td>\n      <td>NaN</td>\n      <td>NaN</td>\n    </tr>\n    <tr>\n      <th>yellowcard</th>\n      <td>NaN</td>\n      <td>NaN</td>\n      <td>NaN</td>\n      <td>NaN</td>\n      <td>NaN</td>\n      <td>NaN</td>\n      <td>...</td>\n      <td>NaN</td>\n      <td>NaN</td>\n      <td>NaN</td>\n      <td>NaN</td>\n      <td>NaN</td>\n      <td>NaN</td>\n    </tr>\n  </tbody>\n</table>\n<p>1001 rows × 5000 columns</p>\n</div>"
     },
     "execution_count": 18,
     "metadata": {},
     "output_type": "execute_result"
    }
   ]
  },
  {
   "cell_type": "markdown",
   "source": [
    "Выкиньте строку под названием `user`."
   ],
   "metadata": {
    "id": "WEKrlEhMpkhF"
   },
   "id": "WEKrlEhMpkhF"
  },
  {
   "cell_type": "code",
   "source": [
    "ratings = ratings.drop('user', axis=0)"
   ],
   "metadata": {
    "id": "yAaV1q9TpuMh",
    "ExecuteTime": {
     "end_time": "2025-06-15T10:09:02.228049800Z",
     "start_time": "2025-06-15T10:09:02.128702500Z"
    }
   },
   "id": "yAaV1q9TpuMh",
   "execution_count": 19,
   "outputs": []
  },
  {
   "cell_type": "code",
   "outputs": [
    {
     "data": {
      "text/plain": "                        0         1         2     3         4         5     ...      4994      4995  4996      4997  4998      4999\nthe beatles              NaN       NaN       NaN   NaN  0.043529       NaN  ...  0.007939  0.017884   NaN  0.076923   NaN       NaN\nradiohead           0.020417  0.184962       NaN   NaN  0.086281  0.006322  ...  0.011187       NaN   NaN       NaN   NaN       NaN\ndeathcab for cutie       NaN  0.024561  0.028635   NaN  0.034590       NaN  ...       NaN       NaN   NaN       NaN   NaN  0.027893\ncoldplay                 NaN       NaN       NaN   NaN  0.016712       NaN  ...       NaN       NaN   NaN       NaN   NaN       NaN\nmodest mouse             NaN       NaN       NaN   NaN  0.015935       NaN  ...       NaN       NaN   NaN       NaN   NaN       NaN\n...                      ...       ...       ...   ...       ...       ...  ...       ...       ...   ...       ...   ...       ...\nmichal w. smith          NaN       NaN       NaN   NaN       NaN       NaN  ...       NaN       NaN   NaN       NaN   NaN       NaN\n群星                       NaN       NaN       NaN   NaN       NaN       NaN  ...       NaN       NaN   NaN       NaN   NaN       NaN\nagalloch                 NaN       NaN       NaN   NaN       NaN       NaN  ...       NaN       NaN   NaN       NaN   NaN       NaN\nmeshuggah                NaN       NaN       NaN   NaN       NaN       NaN  ...       NaN       NaN   NaN       NaN   NaN       NaN\nyellowcard               NaN       NaN       NaN   NaN       NaN       NaN  ...       NaN       NaN   NaN       NaN   NaN       NaN\n\n[1000 rows x 5000 columns]",
      "text/html": "<div>\n<style scoped>\n    .dataframe tbody tr th:only-of-type {\n        vertical-align: middle;\n    }\n\n    .dataframe tbody tr th {\n        vertical-align: top;\n    }\n\n    .dataframe thead th {\n        text-align: right;\n    }\n</style>\n<table border=\"1\" class=\"dataframe\">\n  <thead>\n    <tr style=\"text-align: right;\">\n      <th></th>\n      <th>0</th>\n      <th>1</th>\n      <th>2</th>\n      <th>3</th>\n      <th>4</th>\n      <th>5</th>\n      <th>...</th>\n      <th>4994</th>\n      <th>4995</th>\n      <th>4996</th>\n      <th>4997</th>\n      <th>4998</th>\n      <th>4999</th>\n    </tr>\n  </thead>\n  <tbody>\n    <tr>\n      <th>the beatles</th>\n      <td>NaN</td>\n      <td>NaN</td>\n      <td>NaN</td>\n      <td>NaN</td>\n      <td>0.043529</td>\n      <td>NaN</td>\n      <td>...</td>\n      <td>0.007939</td>\n      <td>0.017884</td>\n      <td>NaN</td>\n      <td>0.076923</td>\n      <td>NaN</td>\n      <td>NaN</td>\n    </tr>\n    <tr>\n      <th>radiohead</th>\n      <td>0.020417</td>\n      <td>0.184962</td>\n      <td>NaN</td>\n      <td>NaN</td>\n      <td>0.086281</td>\n      <td>0.006322</td>\n      <td>...</td>\n      <td>0.011187</td>\n      <td>NaN</td>\n      <td>NaN</td>\n      <td>NaN</td>\n      <td>NaN</td>\n      <td>NaN</td>\n    </tr>\n    <tr>\n      <th>deathcab for cutie</th>\n      <td>NaN</td>\n      <td>0.024561</td>\n      <td>0.028635</td>\n      <td>NaN</td>\n      <td>0.034590</td>\n      <td>NaN</td>\n      <td>...</td>\n      <td>NaN</td>\n      <td>NaN</td>\n      <td>NaN</td>\n      <td>NaN</td>\n      <td>NaN</td>\n      <td>0.027893</td>\n    </tr>\n    <tr>\n      <th>coldplay</th>\n      <td>NaN</td>\n      <td>NaN</td>\n      <td>NaN</td>\n      <td>NaN</td>\n      <td>0.016712</td>\n      <td>NaN</td>\n      <td>...</td>\n      <td>NaN</td>\n      <td>NaN</td>\n      <td>NaN</td>\n      <td>NaN</td>\n      <td>NaN</td>\n      <td>NaN</td>\n    </tr>\n    <tr>\n      <th>modest mouse</th>\n      <td>NaN</td>\n      <td>NaN</td>\n      <td>NaN</td>\n      <td>NaN</td>\n      <td>0.015935</td>\n      <td>NaN</td>\n      <td>...</td>\n      <td>NaN</td>\n      <td>NaN</td>\n      <td>NaN</td>\n      <td>NaN</td>\n      <td>NaN</td>\n      <td>NaN</td>\n    </tr>\n    <tr>\n      <th>...</th>\n      <td>...</td>\n      <td>...</td>\n      <td>...</td>\n      <td>...</td>\n      <td>...</td>\n      <td>...</td>\n      <td>...</td>\n      <td>...</td>\n      <td>...</td>\n      <td>...</td>\n      <td>...</td>\n      <td>...</td>\n      <td>...</td>\n    </tr>\n    <tr>\n      <th>michal w. smith</th>\n      <td>NaN</td>\n      <td>NaN</td>\n      <td>NaN</td>\n      <td>NaN</td>\n      <td>NaN</td>\n      <td>NaN</td>\n      <td>...</td>\n      <td>NaN</td>\n      <td>NaN</td>\n      <td>NaN</td>\n      <td>NaN</td>\n      <td>NaN</td>\n      <td>NaN</td>\n    </tr>\n    <tr>\n      <th>群星</th>\n      <td>NaN</td>\n      <td>NaN</td>\n      <td>NaN</td>\n      <td>NaN</td>\n      <td>NaN</td>\n      <td>NaN</td>\n      <td>...</td>\n      <td>NaN</td>\n      <td>NaN</td>\n      <td>NaN</td>\n      <td>NaN</td>\n      <td>NaN</td>\n      <td>NaN</td>\n    </tr>\n    <tr>\n      <th>agalloch</th>\n      <td>NaN</td>\n      <td>NaN</td>\n      <td>NaN</td>\n      <td>NaN</td>\n      <td>NaN</td>\n      <td>NaN</td>\n      <td>...</td>\n      <td>NaN</td>\n      <td>NaN</td>\n      <td>NaN</td>\n      <td>NaN</td>\n      <td>NaN</td>\n      <td>NaN</td>\n    </tr>\n    <tr>\n      <th>meshuggah</th>\n      <td>NaN</td>\n      <td>NaN</td>\n      <td>NaN</td>\n      <td>NaN</td>\n      <td>NaN</td>\n      <td>NaN</td>\n      <td>...</td>\n      <td>NaN</td>\n      <td>NaN</td>\n      <td>NaN</td>\n      <td>NaN</td>\n      <td>NaN</td>\n      <td>NaN</td>\n    </tr>\n    <tr>\n      <th>yellowcard</th>\n      <td>NaN</td>\n      <td>NaN</td>\n      <td>NaN</td>\n      <td>NaN</td>\n      <td>NaN</td>\n      <td>NaN</td>\n      <td>...</td>\n      <td>NaN</td>\n      <td>NaN</td>\n      <td>NaN</td>\n      <td>NaN</td>\n      <td>NaN</td>\n      <td>NaN</td>\n    </tr>\n  </tbody>\n</table>\n<p>1000 rows × 5000 columns</p>\n</div>"
     },
     "execution_count": 20,
     "metadata": {},
     "output_type": "execute_result"
    }
   ],
   "source": [
    "ratings"
   ],
   "metadata": {
    "collapsed": false,
    "ExecuteTime": {
     "end_time": "2025-06-15T10:09:02.290507Z",
     "start_time": "2025-06-15T10:09:02.163149Z"
    }
   },
   "id": "2276376193aac23c",
   "execution_count": 20
  },
  {
   "cell_type": "markdown",
   "source": [
    "В таблице много пропусков, так как пользователи слушают не всех-всех исполнителей, чья музыка представлена в сервисе, а некоторое подмножество (обычно около 30 исполнителей)\n",
    "\n",
    "\n",
    "Доля исполнителя в музыке, прослушанной  пользователем, равна 0, если пользователь никогда не слушал музыку данного музыканта, поэтому заполните пропуски нулями.\n",
    "\n"
   ],
   "metadata": {
    "id": "Z823IqqPpv_s"
   },
   "id": "Z823IqqPpv_s"
  },
  {
   "cell_type": "code",
   "source": [
    "ratings.fillna(0, inplace=True)\n",
    "\n",
    "ratings.sample()"
   ],
   "metadata": {
    "colab": {
     "base_uri": "https://localhost:8080/",
     "height": 110
    },
    "id": "XRdHzXJUsOeS",
    "outputId": "499ea6da-ce25-4a04-8827-79306a3c39b2",
    "ExecuteTime": {
     "end_time": "2025-06-15T10:09:02.534871200Z",
     "start_time": "2025-06-15T10:09:02.182569300Z"
    }
   },
   "id": "XRdHzXJUsOeS",
   "execution_count": 21,
   "outputs": [
    {
     "data": {
      "text/plain": "                            0     1     2     3     4     5     ...  4994  4995  4996  4997  4998      4999\nthe red jumpsuit apparatus   0.0   0.0   0.0   0.0   0.0   0.0  ...   0.0   0.0   0.0   0.0   0.0  0.020222\n\n[1 rows x 5000 columns]",
      "text/html": "<div>\n<style scoped>\n    .dataframe tbody tr th:only-of-type {\n        vertical-align: middle;\n    }\n\n    .dataframe tbody tr th {\n        vertical-align: top;\n    }\n\n    .dataframe thead th {\n        text-align: right;\n    }\n</style>\n<table border=\"1\" class=\"dataframe\">\n  <thead>\n    <tr style=\"text-align: right;\">\n      <th></th>\n      <th>0</th>\n      <th>1</th>\n      <th>2</th>\n      <th>3</th>\n      <th>4</th>\n      <th>5</th>\n      <th>...</th>\n      <th>4994</th>\n      <th>4995</th>\n      <th>4996</th>\n      <th>4997</th>\n      <th>4998</th>\n      <th>4999</th>\n    </tr>\n  </thead>\n  <tbody>\n    <tr>\n      <th>the red jumpsuit apparatus</th>\n      <td>0.0</td>\n      <td>0.0</td>\n      <td>0.0</td>\n      <td>0.0</td>\n      <td>0.0</td>\n      <td>0.0</td>\n      <td>...</td>\n      <td>0.0</td>\n      <td>0.0</td>\n      <td>0.0</td>\n      <td>0.0</td>\n      <td>0.0</td>\n      <td>0.020222</td>\n    </tr>\n  </tbody>\n</table>\n<p>1 rows × 5000 columns</p>\n</div>"
     },
     "execution_count": 21,
     "metadata": {},
     "output_type": "execute_result"
    }
   ]
  },
  {
   "cell_type": "markdown",
   "source": [
    "## Задание 2 (0.5 балла) Первая кластеризация"
   ],
   "metadata": {
    "id": "0_1D0JnmAAjL"
   },
   "id": "0_1D0JnmAAjL"
  },
  {
   "cell_type": "markdown",
   "source": [
    "Примените KMeans с 5ю кластерами, сохраните полученные лейблы"
   ],
   "metadata": {
    "id": "ARuDv5grstBl"
   },
   "id": "ARuDv5grstBl"
  },
  {
   "cell_type": "code",
   "source": [
    "from sklearn.cluster import KMeans\n",
    "\n",
    "km = KMeans(n_clusters=5, random_state=42)\n",
    "km.fit(ratings)"
   ],
   "metadata": {
    "id": "r2HxwIN5ssoO",
    "ExecuteTime": {
     "end_time": "2025-06-15T10:09:06.856846500Z",
     "start_time": "2025-06-15T10:09:02.233759300Z"
    }
   },
   "id": "r2HxwIN5ssoO",
   "execution_count": 22,
   "outputs": [
    {
     "data": {
      "text/plain": "KMeans(n_clusters=5, random_state=42)",
      "text/html": "<style>#sk-container-id-1 {\n  /* Definition of color scheme common for light and dark mode */\n  --sklearn-color-text: #000;\n  --sklearn-color-text-muted: #666;\n  --sklearn-color-line: gray;\n  /* Definition of color scheme for unfitted estimators */\n  --sklearn-color-unfitted-level-0: #fff5e6;\n  --sklearn-color-unfitted-level-1: #f6e4d2;\n  --sklearn-color-unfitted-level-2: #ffe0b3;\n  --sklearn-color-unfitted-level-3: chocolate;\n  /* Definition of color scheme for fitted estimators */\n  --sklearn-color-fitted-level-0: #f0f8ff;\n  --sklearn-color-fitted-level-1: #d4ebff;\n  --sklearn-color-fitted-level-2: #b3dbfd;\n  --sklearn-color-fitted-level-3: cornflowerblue;\n\n  /* Specific color for light theme */\n  --sklearn-color-text-on-default-background: var(--sg-text-color, var(--theme-code-foreground, var(--jp-content-font-color1, black)));\n  --sklearn-color-background: var(--sg-background-color, var(--theme-background, var(--jp-layout-color0, white)));\n  --sklearn-color-border-box: var(--sg-text-color, var(--theme-code-foreground, var(--jp-content-font-color1, black)));\n  --sklearn-color-icon: #696969;\n\n  @media (prefers-color-scheme: dark) {\n    /* Redefinition of color scheme for dark theme */\n    --sklearn-color-text-on-default-background: var(--sg-text-color, var(--theme-code-foreground, var(--jp-content-font-color1, white)));\n    --sklearn-color-background: var(--sg-background-color, var(--theme-background, var(--jp-layout-color0, #111)));\n    --sklearn-color-border-box: var(--sg-text-color, var(--theme-code-foreground, var(--jp-content-font-color1, white)));\n    --sklearn-color-icon: #878787;\n  }\n}\n\n#sk-container-id-1 {\n  color: var(--sklearn-color-text);\n}\n\n#sk-container-id-1 pre {\n  padding: 0;\n}\n\n#sk-container-id-1 input.sk-hidden--visually {\n  border: 0;\n  clip: rect(1px 1px 1px 1px);\n  clip: rect(1px, 1px, 1px, 1px);\n  height: 1px;\n  margin: -1px;\n  overflow: hidden;\n  padding: 0;\n  position: absolute;\n  width: 1px;\n}\n\n#sk-container-id-1 div.sk-dashed-wrapped {\n  border: 1px dashed var(--sklearn-color-line);\n  margin: 0 0.4em 0.5em 0.4em;\n  box-sizing: border-box;\n  padding-bottom: 0.4em;\n  background-color: var(--sklearn-color-background);\n}\n\n#sk-container-id-1 div.sk-container {\n  /* jupyter's `normalize.less` sets `[hidden] { display: none; }`\n     but bootstrap.min.css set `[hidden] { display: none !important; }`\n     so we also need the `!important` here to be able to override the\n     default hidden behavior on the sphinx rendered scikit-learn.org.\n     See: https://github.com/scikit-learn/scikit-learn/issues/21755 */\n  display: inline-block !important;\n  position: relative;\n}\n\n#sk-container-id-1 div.sk-text-repr-fallback {\n  display: none;\n}\n\ndiv.sk-parallel-item,\ndiv.sk-serial,\ndiv.sk-item {\n  /* draw centered vertical line to link estimators */\n  background-image: linear-gradient(var(--sklearn-color-text-on-default-background), var(--sklearn-color-text-on-default-background));\n  background-size: 2px 100%;\n  background-repeat: no-repeat;\n  background-position: center center;\n}\n\n/* Parallel-specific style estimator block */\n\n#sk-container-id-1 div.sk-parallel-item::after {\n  content: \"\";\n  width: 100%;\n  border-bottom: 2px solid var(--sklearn-color-text-on-default-background);\n  flex-grow: 1;\n}\n\n#sk-container-id-1 div.sk-parallel {\n  display: flex;\n  align-items: stretch;\n  justify-content: center;\n  background-color: var(--sklearn-color-background);\n  position: relative;\n}\n\n#sk-container-id-1 div.sk-parallel-item {\n  display: flex;\n  flex-direction: column;\n}\n\n#sk-container-id-1 div.sk-parallel-item:first-child::after {\n  align-self: flex-end;\n  width: 50%;\n}\n\n#sk-container-id-1 div.sk-parallel-item:last-child::after {\n  align-self: flex-start;\n  width: 50%;\n}\n\n#sk-container-id-1 div.sk-parallel-item:only-child::after {\n  width: 0;\n}\n\n/* Serial-specific style estimator block */\n\n#sk-container-id-1 div.sk-serial {\n  display: flex;\n  flex-direction: column;\n  align-items: center;\n  background-color: var(--sklearn-color-background);\n  padding-right: 1em;\n  padding-left: 1em;\n}\n\n\n/* Toggleable style: style used for estimator/Pipeline/ColumnTransformer box that is\nclickable and can be expanded/collapsed.\n- Pipeline and ColumnTransformer use this feature and define the default style\n- Estimators will overwrite some part of the style using the `sk-estimator` class\n*/\n\n/* Pipeline and ColumnTransformer style (default) */\n\n#sk-container-id-1 div.sk-toggleable {\n  /* Default theme specific background. It is overwritten whether we have a\n  specific estimator or a Pipeline/ColumnTransformer */\n  background-color: var(--sklearn-color-background);\n}\n\n/* Toggleable label */\n#sk-container-id-1 label.sk-toggleable__label {\n  cursor: pointer;\n  display: flex;\n  width: 100%;\n  margin-bottom: 0;\n  padding: 0.5em;\n  box-sizing: border-box;\n  text-align: center;\n  align-items: start;\n  justify-content: space-between;\n  gap: 0.5em;\n}\n\n#sk-container-id-1 label.sk-toggleable__label .caption {\n  font-size: 0.6rem;\n  font-weight: lighter;\n  color: var(--sklearn-color-text-muted);\n}\n\n#sk-container-id-1 label.sk-toggleable__label-arrow:before {\n  /* Arrow on the left of the label */\n  content: \"▸\";\n  float: left;\n  margin-right: 0.25em;\n  color: var(--sklearn-color-icon);\n}\n\n#sk-container-id-1 label.sk-toggleable__label-arrow:hover:before {\n  color: var(--sklearn-color-text);\n}\n\n/* Toggleable content - dropdown */\n\n#sk-container-id-1 div.sk-toggleable__content {\n  max-height: 0;\n  max-width: 0;\n  overflow: hidden;\n  text-align: left;\n  /* unfitted */\n  background-color: var(--sklearn-color-unfitted-level-0);\n}\n\n#sk-container-id-1 div.sk-toggleable__content.fitted {\n  /* fitted */\n  background-color: var(--sklearn-color-fitted-level-0);\n}\n\n#sk-container-id-1 div.sk-toggleable__content pre {\n  margin: 0.2em;\n  border-radius: 0.25em;\n  color: var(--sklearn-color-text);\n  /* unfitted */\n  background-color: var(--sklearn-color-unfitted-level-0);\n}\n\n#sk-container-id-1 div.sk-toggleable__content.fitted pre {\n  /* unfitted */\n  background-color: var(--sklearn-color-fitted-level-0);\n}\n\n#sk-container-id-1 input.sk-toggleable__control:checked~div.sk-toggleable__content {\n  /* Expand drop-down */\n  max-height: 200px;\n  max-width: 100%;\n  overflow: auto;\n}\n\n#sk-container-id-1 input.sk-toggleable__control:checked~label.sk-toggleable__label-arrow:before {\n  content: \"▾\";\n}\n\n/* Pipeline/ColumnTransformer-specific style */\n\n#sk-container-id-1 div.sk-label input.sk-toggleable__control:checked~label.sk-toggleable__label {\n  color: var(--sklearn-color-text);\n  background-color: var(--sklearn-color-unfitted-level-2);\n}\n\n#sk-container-id-1 div.sk-label.fitted input.sk-toggleable__control:checked~label.sk-toggleable__label {\n  background-color: var(--sklearn-color-fitted-level-2);\n}\n\n/* Estimator-specific style */\n\n/* Colorize estimator box */\n#sk-container-id-1 div.sk-estimator input.sk-toggleable__control:checked~label.sk-toggleable__label {\n  /* unfitted */\n  background-color: var(--sklearn-color-unfitted-level-2);\n}\n\n#sk-container-id-1 div.sk-estimator.fitted input.sk-toggleable__control:checked~label.sk-toggleable__label {\n  /* fitted */\n  background-color: var(--sklearn-color-fitted-level-2);\n}\n\n#sk-container-id-1 div.sk-label label.sk-toggleable__label,\n#sk-container-id-1 div.sk-label label {\n  /* The background is the default theme color */\n  color: var(--sklearn-color-text-on-default-background);\n}\n\n/* On hover, darken the color of the background */\n#sk-container-id-1 div.sk-label:hover label.sk-toggleable__label {\n  color: var(--sklearn-color-text);\n  background-color: var(--sklearn-color-unfitted-level-2);\n}\n\n/* Label box, darken color on hover, fitted */\n#sk-container-id-1 div.sk-label.fitted:hover label.sk-toggleable__label.fitted {\n  color: var(--sklearn-color-text);\n  background-color: var(--sklearn-color-fitted-level-2);\n}\n\n/* Estimator label */\n\n#sk-container-id-1 div.sk-label label {\n  font-family: monospace;\n  font-weight: bold;\n  display: inline-block;\n  line-height: 1.2em;\n}\n\n#sk-container-id-1 div.sk-label-container {\n  text-align: center;\n}\n\n/* Estimator-specific */\n#sk-container-id-1 div.sk-estimator {\n  font-family: monospace;\n  border: 1px dotted var(--sklearn-color-border-box);\n  border-radius: 0.25em;\n  box-sizing: border-box;\n  margin-bottom: 0.5em;\n  /* unfitted */\n  background-color: var(--sklearn-color-unfitted-level-0);\n}\n\n#sk-container-id-1 div.sk-estimator.fitted {\n  /* fitted */\n  background-color: var(--sklearn-color-fitted-level-0);\n}\n\n/* on hover */\n#sk-container-id-1 div.sk-estimator:hover {\n  /* unfitted */\n  background-color: var(--sklearn-color-unfitted-level-2);\n}\n\n#sk-container-id-1 div.sk-estimator.fitted:hover {\n  /* fitted */\n  background-color: var(--sklearn-color-fitted-level-2);\n}\n\n/* Specification for estimator info (e.g. \"i\" and \"?\") */\n\n/* Common style for \"i\" and \"?\" */\n\n.sk-estimator-doc-link,\na:link.sk-estimator-doc-link,\na:visited.sk-estimator-doc-link {\n  float: right;\n  font-size: smaller;\n  line-height: 1em;\n  font-family: monospace;\n  background-color: var(--sklearn-color-background);\n  border-radius: 1em;\n  height: 1em;\n  width: 1em;\n  text-decoration: none !important;\n  margin-left: 0.5em;\n  text-align: center;\n  /* unfitted */\n  border: var(--sklearn-color-unfitted-level-1) 1pt solid;\n  color: var(--sklearn-color-unfitted-level-1);\n}\n\n.sk-estimator-doc-link.fitted,\na:link.sk-estimator-doc-link.fitted,\na:visited.sk-estimator-doc-link.fitted {\n  /* fitted */\n  border: var(--sklearn-color-fitted-level-1) 1pt solid;\n  color: var(--sklearn-color-fitted-level-1);\n}\n\n/* On hover */\ndiv.sk-estimator:hover .sk-estimator-doc-link:hover,\n.sk-estimator-doc-link:hover,\ndiv.sk-label-container:hover .sk-estimator-doc-link:hover,\n.sk-estimator-doc-link:hover {\n  /* unfitted */\n  background-color: var(--sklearn-color-unfitted-level-3);\n  color: var(--sklearn-color-background);\n  text-decoration: none;\n}\n\ndiv.sk-estimator.fitted:hover .sk-estimator-doc-link.fitted:hover,\n.sk-estimator-doc-link.fitted:hover,\ndiv.sk-label-container:hover .sk-estimator-doc-link.fitted:hover,\n.sk-estimator-doc-link.fitted:hover {\n  /* fitted */\n  background-color: var(--sklearn-color-fitted-level-3);\n  color: var(--sklearn-color-background);\n  text-decoration: none;\n}\n\n/* Span, style for the box shown on hovering the info icon */\n.sk-estimator-doc-link span {\n  display: none;\n  z-index: 9999;\n  position: relative;\n  font-weight: normal;\n  right: .2ex;\n  padding: .5ex;\n  margin: .5ex;\n  width: min-content;\n  min-width: 20ex;\n  max-width: 50ex;\n  color: var(--sklearn-color-text);\n  box-shadow: 2pt 2pt 4pt #999;\n  /* unfitted */\n  background: var(--sklearn-color-unfitted-level-0);\n  border: .5pt solid var(--sklearn-color-unfitted-level-3);\n}\n\n.sk-estimator-doc-link.fitted span {\n  /* fitted */\n  background: var(--sklearn-color-fitted-level-0);\n  border: var(--sklearn-color-fitted-level-3);\n}\n\n.sk-estimator-doc-link:hover span {\n  display: block;\n}\n\n/* \"?\"-specific style due to the `<a>` HTML tag */\n\n#sk-container-id-1 a.estimator_doc_link {\n  float: right;\n  font-size: 1rem;\n  line-height: 1em;\n  font-family: monospace;\n  background-color: var(--sklearn-color-background);\n  border-radius: 1rem;\n  height: 1rem;\n  width: 1rem;\n  text-decoration: none;\n  /* unfitted */\n  color: var(--sklearn-color-unfitted-level-1);\n  border: var(--sklearn-color-unfitted-level-1) 1pt solid;\n}\n\n#sk-container-id-1 a.estimator_doc_link.fitted {\n  /* fitted */\n  border: var(--sklearn-color-fitted-level-1) 1pt solid;\n  color: var(--sklearn-color-fitted-level-1);\n}\n\n/* On hover */\n#sk-container-id-1 a.estimator_doc_link:hover {\n  /* unfitted */\n  background-color: var(--sklearn-color-unfitted-level-3);\n  color: var(--sklearn-color-background);\n  text-decoration: none;\n}\n\n#sk-container-id-1 a.estimator_doc_link.fitted:hover {\n  /* fitted */\n  background-color: var(--sklearn-color-fitted-level-3);\n}\n</style><div id=\"sk-container-id-1\" class=\"sk-top-container\"><div class=\"sk-text-repr-fallback\"><pre>KMeans(n_clusters=5, random_state=42)</pre><b>In a Jupyter environment, please rerun this cell to show the HTML representation or trust the notebook. <br />On GitHub, the HTML representation is unable to render, please try loading this page with nbviewer.org.</b></div><div class=\"sk-container\" hidden><div class=\"sk-item\"><div class=\"sk-estimator fitted sk-toggleable\"><input class=\"sk-toggleable__control sk-hidden--visually\" id=\"sk-estimator-id-1\" type=\"checkbox\" checked><label for=\"sk-estimator-id-1\" class=\"sk-toggleable__label fitted sk-toggleable__label-arrow\"><div><div>KMeans</div></div><div><a class=\"sk-estimator-doc-link fitted\" rel=\"noreferrer\" target=\"_blank\" href=\"https://scikit-learn.org/1.6/modules/generated/sklearn.cluster.KMeans.html\">?<span>Documentation for KMeans</span></a><span class=\"sk-estimator-doc-link fitted\">i<span>Fitted</span></span></div></label><div class=\"sk-toggleable__content fitted\"><pre>KMeans(n_clusters=5, random_state=42)</pre></div> </div></div></div></div>"
     },
     "execution_count": 22,
     "metadata": {},
     "output_type": "execute_result"
    }
   ]
  },
  {
   "cell_type": "markdown",
   "source": [
    "Выведите размеры кластеров. Полезной ли получилась кластеризация? Почему KMeans может выдать такой результат?"
   ],
   "metadata": {
    "id": "aoWre3460SVi"
   },
   "id": "aoWre3460SVi"
  },
  {
   "cell_type": "code",
   "source": [
    "counts = pd.Series(km.labels_).groupby(km.labels_).size()\n",
    "print(counts)"
   ],
   "metadata": {
    "id": "zsGGw7ha1OhP",
    "ExecuteTime": {
     "end_time": "2025-06-15T10:09:06.894411300Z",
     "start_time": "2025-06-15T10:09:06.837932200Z"
    }
   },
   "id": "zsGGw7ha1OhP",
   "execution_count": 23,
   "outputs": [
    {
     "name": "stdout",
     "output_type": "stream",
     "text": [
      "0    115\n",
      "1      1\n",
      "2      1\n",
      "3    882\n",
      "4      1\n",
      "dtype: int64\n"
     ]
    }
   ]
  },
  {
   "cell_type": "markdown",
   "source": [
    "**Ответ:** Видимо, классы расположены довольно плотно друг к другу (абсолютными значениями), поэтому они слиплись в основную массу под меткой 3, также произошло с меткой 0, а остальные исполнителей в качестве выбросов определились в отдельные классы."
   ],
   "metadata": {
    "id": "lCcSpb2o11nZ"
   },
   "id": "lCcSpb2o11nZ"
  },
  {
   "cell_type": "markdown",
   "source": [
    "## Задание 3 (0.5 балла) Объяснение результатов"
   ],
   "metadata": {
    "id": "HDLIxdWBAMql"
   },
   "id": "HDLIxdWBAMql"
  },
  {
   "cell_type": "markdown",
   "source": [
    "При кластеризации получилось $\\geq 1$ кластера размера 1. Выведите исполнителей, которые составляют такие кластеры. Среди них должна быть группа The Beatles."
   ],
   "metadata": {
    "id": "Z0LPwxlK6PX3"
   },
   "id": "Z0LPwxlK6PX3"
  },
  {
   "cell_type": "code",
   "source": [
    "artists_clusters = pd.DataFrame({'artist': ratings.index, 'cluster': km.labels_})\n",
    "single_cluster_artists = artists_clusters[artists_clusters['cluster'].isin([1, 2, 4])]\n",
    "print(single_cluster_artists[['artist', 'cluster']])"
   ],
   "metadata": {
    "id": "GpopP65iUXiJ",
    "ExecuteTime": {
     "end_time": "2025-06-15T10:09:06.927013200Z",
     "start_time": "2025-06-15T10:09:06.861845800Z"
    }
   },
   "id": "GpopP65iUXiJ",
   "execution_count": 24,
   "outputs": [
    {
     "name": "stdout",
     "output_type": "stream",
     "text": [
      "           artist  cluster\n",
      "0     the beatles        4\n",
      "10            niИ        2\n",
      "931  日dir en grey        1\n"
     ]
    }
   ]
  },
  {
   "cell_type": "markdown",
   "source": [
    "Изучите данные, почему именно The Beatles выделяется?\n",
    "\n",
    "Подсказка: посмотрите на долю пользователей, которые слушают каждого исполнителя, среднюю долю прослушивания."
   ],
   "metadata": {
    "id": "brfvihta6yyG"
   },
   "id": "brfvihta6yyG"
  },
  {
   "cell_type": "code",
   "source": [
    "listen_counts = (ratings > 0).sum(axis=1)  # Количество ненулевых значений по строкам\n",
    "total_users = ratings.shape[1]\n",
    "user_fraction = listen_counts / total_users\n",
    "\n",
    "mean_listen_share = ratings[ratings > 0].mean(axis=1)\n",
    "\n",
    "analysis = pd.DataFrame({\n",
    "    'user_share': user_fraction,\n",
    "    'mean_listen_share': mean_listen_share\n",
    "}) \n",
    "\n",
    "print(analysis.loc[['the beatles', 'niИ', '日dir en grey']].sort_values(by='user_share', ascending=False))"
   ],
   "metadata": {
    "id": "xnK6DL-aUdPi",
    "ExecuteTime": {
     "end_time": "2025-06-15T10:09:07.128316400Z",
     "start_time": "2025-06-15T10:09:06.885886300Z"
    }
   },
   "id": "xnK6DL-aUdPi",
   "execution_count": 25,
   "outputs": [
    {
     "name": "stdout",
     "output_type": "stream",
     "text": [
      "              user_share  mean_listen_share\n",
      "the beatles       0.3342           0.054964\n",
      "niИ               0.1182           0.054740\n",
      "日dir en grey      0.0102           0.165582\n"
     ]
    }
   ]
  },
  {
   "cell_type": "markdown",
   "source": [
    "**Ответ:** Получили, что the_beatles слушала треть всех пользователей, но в среднем из тех, кто слушали, их слушали не так интенсивно, что делает такую комбинацию свойств уникальной. niИ слушали 0.11 всех пользователей, но, как и в случае с the beatles, не так интенсивно. В случае с третьим исполнителем всё наоборот - слушают мало людей, но кто слушает - делает это интенсивно. "
   ],
   "metadata": {
    "id": "QzYYFir870jG"
   },
   "id": "QzYYFir870jG"
  },
  {
   "cell_type": "markdown",
   "source": [
    "## Задание 4 (0.5 балла) Улучшение кластеризации"
   ],
   "metadata": {
    "id": "faW2kZFjAS9X"
   },
   "id": "faW2kZFjAS9X"
  },
  {
   "cell_type": "markdown",
   "source": [
    "Попытаемся избавиться от этой проблемы: нормализуйте данные при помощи `normalize`."
   ],
   "metadata": {
    "id": "Yzz3BbBw9KKt"
   },
   "id": "Yzz3BbBw9KKt"
  },
  {
   "cell_type": "code",
   "source": [
    "from sklearn.preprocessing import normalize\n",
    "\n",
    "ratings_normalized = normalize(ratings, norm='l2', axis=1)\n",
    "ratings_normalized = pd.DataFrame(ratings_normalized, index=ratings.index, columns=ratings.columns)\n",
    "ratings_normalized"
   ],
   "metadata": {
    "id": "zg_crbGI9RNG",
    "ExecuteTime": {
     "end_time": "2025-06-15T10:48:45.274843600Z",
     "start_time": "2025-06-15T10:48:45.211883600Z"
    }
   },
   "id": "zg_crbGI9RNG",
   "execution_count": 31,
   "outputs": [
    {
     "data": {
      "text/plain": "                        0         1         2     3         4         5     ...      4994      4995  4996      4997  4998      4999\nthe beatles         0.000000  0.000000  0.000000   0.0  0.012054  0.000000  ...  0.002199  0.004952   0.0  0.021302   0.0  0.000000\nradiohead           0.009348  0.084688  0.000000   0.0  0.039505  0.002894  ...  0.005122  0.000000   0.0  0.000000   0.0  0.000000\ndeathcab for cutie  0.000000  0.017278  0.020144   0.0  0.024333  0.000000  ...  0.000000  0.000000   0.0  0.000000   0.0  0.019622\ncoldplay            0.000000  0.000000  0.000000   0.0  0.011129  0.000000  ...  0.000000  0.000000   0.0  0.000000   0.0  0.000000\nmodest mouse        0.000000  0.000000  0.000000   0.0  0.010260  0.000000  ...  0.000000  0.000000   0.0  0.000000   0.0  0.000000\n...                      ...       ...       ...   ...       ...       ...  ...       ...       ...   ...       ...   ...       ...\nmichal w. smith     0.000000  0.000000  0.000000   0.0  0.000000  0.000000  ...  0.000000  0.000000   0.0  0.000000   0.0  0.000000\n群星                  0.000000  0.000000  0.000000   0.0  0.000000  0.000000  ...  0.000000  0.000000   0.0  0.000000   0.0  0.000000\nagalloch            0.000000  0.000000  0.000000   0.0  0.000000  0.000000  ...  0.000000  0.000000   0.0  0.000000   0.0  0.000000\nmeshuggah           0.000000  0.000000  0.000000   0.0  0.000000  0.000000  ...  0.000000  0.000000   0.0  0.000000   0.0  0.000000\nyellowcard          0.000000  0.000000  0.000000   0.0  0.000000  0.000000  ...  0.000000  0.000000   0.0  0.000000   0.0  0.000000\n\n[1000 rows x 5000 columns]",
      "text/html": "<div>\n<style scoped>\n    .dataframe tbody tr th:only-of-type {\n        vertical-align: middle;\n    }\n\n    .dataframe tbody tr th {\n        vertical-align: top;\n    }\n\n    .dataframe thead th {\n        text-align: right;\n    }\n</style>\n<table border=\"1\" class=\"dataframe\">\n  <thead>\n    <tr style=\"text-align: right;\">\n      <th></th>\n      <th>0</th>\n      <th>1</th>\n      <th>2</th>\n      <th>3</th>\n      <th>4</th>\n      <th>5</th>\n      <th>...</th>\n      <th>4994</th>\n      <th>4995</th>\n      <th>4996</th>\n      <th>4997</th>\n      <th>4998</th>\n      <th>4999</th>\n    </tr>\n  </thead>\n  <tbody>\n    <tr>\n      <th>the beatles</th>\n      <td>0.000000</td>\n      <td>0.000000</td>\n      <td>0.000000</td>\n      <td>0.0</td>\n      <td>0.012054</td>\n      <td>0.000000</td>\n      <td>...</td>\n      <td>0.002199</td>\n      <td>0.004952</td>\n      <td>0.0</td>\n      <td>0.021302</td>\n      <td>0.0</td>\n      <td>0.000000</td>\n    </tr>\n    <tr>\n      <th>radiohead</th>\n      <td>0.009348</td>\n      <td>0.084688</td>\n      <td>0.000000</td>\n      <td>0.0</td>\n      <td>0.039505</td>\n      <td>0.002894</td>\n      <td>...</td>\n      <td>0.005122</td>\n      <td>0.000000</td>\n      <td>0.0</td>\n      <td>0.000000</td>\n      <td>0.0</td>\n      <td>0.000000</td>\n    </tr>\n    <tr>\n      <th>deathcab for cutie</th>\n      <td>0.000000</td>\n      <td>0.017278</td>\n      <td>0.020144</td>\n      <td>0.0</td>\n      <td>0.024333</td>\n      <td>0.000000</td>\n      <td>...</td>\n      <td>0.000000</td>\n      <td>0.000000</td>\n      <td>0.0</td>\n      <td>0.000000</td>\n      <td>0.0</td>\n      <td>0.019622</td>\n    </tr>\n    <tr>\n      <th>coldplay</th>\n      <td>0.000000</td>\n      <td>0.000000</td>\n      <td>0.000000</td>\n      <td>0.0</td>\n      <td>0.011129</td>\n      <td>0.000000</td>\n      <td>...</td>\n      <td>0.000000</td>\n      <td>0.000000</td>\n      <td>0.0</td>\n      <td>0.000000</td>\n      <td>0.0</td>\n      <td>0.000000</td>\n    </tr>\n    <tr>\n      <th>modest mouse</th>\n      <td>0.000000</td>\n      <td>0.000000</td>\n      <td>0.000000</td>\n      <td>0.0</td>\n      <td>0.010260</td>\n      <td>0.000000</td>\n      <td>...</td>\n      <td>0.000000</td>\n      <td>0.000000</td>\n      <td>0.0</td>\n      <td>0.000000</td>\n      <td>0.0</td>\n      <td>0.000000</td>\n    </tr>\n    <tr>\n      <th>...</th>\n      <td>...</td>\n      <td>...</td>\n      <td>...</td>\n      <td>...</td>\n      <td>...</td>\n      <td>...</td>\n      <td>...</td>\n      <td>...</td>\n      <td>...</td>\n      <td>...</td>\n      <td>...</td>\n      <td>...</td>\n      <td>...</td>\n    </tr>\n    <tr>\n      <th>michal w. smith</th>\n      <td>0.000000</td>\n      <td>0.000000</td>\n      <td>0.000000</td>\n      <td>0.0</td>\n      <td>0.000000</td>\n      <td>0.000000</td>\n      <td>...</td>\n      <td>0.000000</td>\n      <td>0.000000</td>\n      <td>0.0</td>\n      <td>0.000000</td>\n      <td>0.0</td>\n      <td>0.000000</td>\n    </tr>\n    <tr>\n      <th>群星</th>\n      <td>0.000000</td>\n      <td>0.000000</td>\n      <td>0.000000</td>\n      <td>0.0</td>\n      <td>0.000000</td>\n      <td>0.000000</td>\n      <td>...</td>\n      <td>0.000000</td>\n      <td>0.000000</td>\n      <td>0.0</td>\n      <td>0.000000</td>\n      <td>0.0</td>\n      <td>0.000000</td>\n    </tr>\n    <tr>\n      <th>agalloch</th>\n      <td>0.000000</td>\n      <td>0.000000</td>\n      <td>0.000000</td>\n      <td>0.0</td>\n      <td>0.000000</td>\n      <td>0.000000</td>\n      <td>...</td>\n      <td>0.000000</td>\n      <td>0.000000</td>\n      <td>0.0</td>\n      <td>0.000000</td>\n      <td>0.0</td>\n      <td>0.000000</td>\n    </tr>\n    <tr>\n      <th>meshuggah</th>\n      <td>0.000000</td>\n      <td>0.000000</td>\n      <td>0.000000</td>\n      <td>0.0</td>\n      <td>0.000000</td>\n      <td>0.000000</td>\n      <td>...</td>\n      <td>0.000000</td>\n      <td>0.000000</td>\n      <td>0.0</td>\n      <td>0.000000</td>\n      <td>0.0</td>\n      <td>0.000000</td>\n    </tr>\n    <tr>\n      <th>yellowcard</th>\n      <td>0.000000</td>\n      <td>0.000000</td>\n      <td>0.000000</td>\n      <td>0.0</td>\n      <td>0.000000</td>\n      <td>0.000000</td>\n      <td>...</td>\n      <td>0.000000</td>\n      <td>0.000000</td>\n      <td>0.0</td>\n      <td>0.000000</td>\n      <td>0.0</td>\n      <td>0.000000</td>\n    </tr>\n  </tbody>\n</table>\n<p>1000 rows × 5000 columns</p>\n</div>"
     },
     "execution_count": 31,
     "metadata": {},
     "output_type": "execute_result"
    }
   ]
  },
  {
   "cell_type": "markdown",
   "source": [
    "Примените KMeans с 5ю кластерами на преобразованной матрице, посмотрите на их размеры. Стало ли лучше? Может ли кластеризация быть полезной теперь?"
   ],
   "metadata": {
    "id": "vFlwI4ec-SuY"
   },
   "id": "vFlwI4ec-SuY"
  },
  {
   "cell_type": "code",
   "source": [
    "km = KMeans(n_clusters=5, random_state=42)\n",
    "km.fit(ratings_normalized)\n",
    "\n",
    "counts = pd.Series(km.labels_).groupby(km.labels_).size()\n",
    "print(\"Размеры кластеров:\")\n",
    "print(counts)"
   ],
   "metadata": {
    "id": "6ic3WvMdUfwb",
    "ExecuteTime": {
     "end_time": "2025-06-15T11:00:45.212997900Z",
     "start_time": "2025-06-15T11:00:45.050979800Z"
    }
   },
   "id": "6ic3WvMdUfwb",
   "execution_count": 36,
   "outputs": [
    {
     "name": "stdout",
     "output_type": "stream",
     "text": [
      "Размеры кластеров:\n",
      "0     79\n",
      "1    162\n",
      "2    133\n",
      "3    140\n",
      "4    486\n",
      "dtype: int64\n"
     ]
    }
   ]
  },
  {
   "cell_type": "markdown",
   "source": [
    "**Ответ** # Стало намного лучше, теперь кластеризация ищет адекватные размеры кластеров, ее можно назвать полезной"
   ],
   "metadata": {
    "id": "Xj9fyDKd-bzk"
   },
   "id": "Xj9fyDKd-bzk"
  },
  {
   "cell_type": "markdown",
   "source": [
    "## Задание 5 (1 балл) Центроиды"
   ],
   "metadata": {
    "id": "zFsXACPxAhyv"
   },
   "id": "zFsXACPxAhyv"
  },
  {
   "cell_type": "markdown",
   "source": [
    "Выведите для каждого кластера названия топ-10 исполнителей, ближайших к центроиду по косинусной мере. Проинтерпретируйте результат. Что можно сказать о смысле кластеров?"
   ],
   "metadata": {
    "id": "qG5cISdzu7Jh"
   },
   "id": "qG5cISdzu7Jh"
  },
  {
   "cell_type": "code",
   "source": [
    "from scipy.spatial.distance import cosine\n",
    "\n",
    "centroids = km.cluster_centers_\n",
    "artists_clusters = pd.DataFrame({'artist': ratings_normalized.index, 'cluster': km.labels_})\n",
    "artists_clusters"
   ],
   "metadata": {
    "id": "Q3gI8OlKuCG6",
    "ExecuteTime": {
     "end_time": "2025-06-15T11:05:25.009328600Z",
     "start_time": "2025-06-15T11:05:25.001471500Z"
    }
   },
   "id": "Q3gI8OlKuCG6",
   "execution_count": 39,
   "outputs": [
    {
     "data": {
      "text/plain": "                 artist  cluster\n0           the beatles        3\n1             radiohead        4\n2    deathcab for cutie        1\n3              coldplay        1\n4          modest mouse        4\n..                  ...      ...\n995     michal w. smith        1\n996                  群星        4\n997            agalloch        4\n998           meshuggah        4\n999          yellowcard        1\n\n[1000 rows x 2 columns]",
      "text/html": "<div>\n<style scoped>\n    .dataframe tbody tr th:only-of-type {\n        vertical-align: middle;\n    }\n\n    .dataframe tbody tr th {\n        vertical-align: top;\n    }\n\n    .dataframe thead th {\n        text-align: right;\n    }\n</style>\n<table border=\"1\" class=\"dataframe\">\n  <thead>\n    <tr style=\"text-align: right;\">\n      <th></th>\n      <th>artist</th>\n      <th>cluster</th>\n    </tr>\n  </thead>\n  <tbody>\n    <tr>\n      <th>0</th>\n      <td>the beatles</td>\n      <td>3</td>\n    </tr>\n    <tr>\n      <th>1</th>\n      <td>radiohead</td>\n      <td>4</td>\n    </tr>\n    <tr>\n      <th>2</th>\n      <td>deathcab for cutie</td>\n      <td>1</td>\n    </tr>\n    <tr>\n      <th>3</th>\n      <td>coldplay</td>\n      <td>1</td>\n    </tr>\n    <tr>\n      <th>4</th>\n      <td>modest mouse</td>\n      <td>4</td>\n    </tr>\n    <tr>\n      <th>...</th>\n      <td>...</td>\n      <td>...</td>\n    </tr>\n    <tr>\n      <th>995</th>\n      <td>michal w. smith</td>\n      <td>1</td>\n    </tr>\n    <tr>\n      <th>996</th>\n      <td>群星</td>\n      <td>4</td>\n    </tr>\n    <tr>\n      <th>997</th>\n      <td>agalloch</td>\n      <td>4</td>\n    </tr>\n    <tr>\n      <th>998</th>\n      <td>meshuggah</td>\n      <td>4</td>\n    </tr>\n    <tr>\n      <th>999</th>\n      <td>yellowcard</td>\n      <td>1</td>\n    </tr>\n  </tbody>\n</table>\n<p>1000 rows × 2 columns</p>\n</div>"
     },
     "execution_count": 39,
     "metadata": {},
     "output_type": "execute_result"
    }
   ]
  },
  {
   "cell_type": "code",
   "outputs": [
    {
     "name": "stdout",
     "output_type": "stream",
     "text": [
      "                           artist  length_to_center\n",
      "128                           nas          0.463886\n",
      "75                          jay-z          0.495511\n",
      "9                      kanye west          0.520057\n",
      "133              lupe the gorilla          0.583878\n",
      "137          a tribe called quest          0.586652\n",
      "153  the roots featuring d'angelo          0.593835\n",
      "463                     gangstarr          0.627951\n",
      "806                little brother          0.629114\n",
      "73                     lil' wayne          0.632561\n",
      "802           murs and 9th wonder          0.635230\n",
      "\n",
      "                        artist  length_to_center\n",
      "42                fall out boy          0.634882\n",
      "182  the all-americian rejects          0.655979\n",
      "80                    paramore          0.658733\n",
      "246             kelly clarkson          0.664350\n",
      "58                  john mayer          0.674993\n",
      "198                   the fray          0.675170\n",
      "112                    maroon5          0.688339\n",
      "117    dashboard confesssional          0.690969\n",
      "286       somethings corporate          0.710460\n",
      "3                     coldplay          0.711482\n",
      "\n",
      "              artist  length_to_center\n",
      "43         brand new          0.630789\n",
      "31         blink-182          0.655546\n",
      "143    alkaline trio          0.663157\n",
      "157      against me!          0.665646\n",
      "242        underoath          0.699969\n",
      "303      descendents          0.701055\n",
      "188  new found glory          0.702068\n",
      "314   less than jake          0.705504\n",
      "184           thrice          0.706222\n",
      "378          chiodos          0.712410\n",
      "\n",
      "                  artist  length_to_center\n",
      "0            the beatles          0.620316\n",
      "23    the rolling stones          0.623515\n",
      "6             dylan. bob          0.656529\n",
      "78                   who          0.698215\n",
      "12         led zeppelin.          0.707519\n",
      "106         miles davis.          0.720636\n",
      "101  simon and garfunkel          0.727295\n",
      "98           young, neil          0.731910\n",
      "8             pink fluid          0.732046\n",
      "92    velvet underground          0.744756\n",
      "\n",
      "                 artist  length_to_center\n",
      "1             radiohead          0.589214\n",
      "18      the arcade fire          0.670243\n",
      "11            the shins          0.695119\n",
      "5        sufjan stevens          0.696286\n",
      "26  belle and sebastian          0.706782\n",
      "61  broken social scene          0.707001\n",
      "25           the pixies          0.707969\n",
      "38    animal collective          0.714135\n",
      "4          modest mouse          0.720852\n",
      "45                spoon          0.722582\n"
     ]
    }
   ],
   "source": [
    "top_10 = []\n",
    "for index_cluster in range(centroids.shape[0]):\n",
    "    artists_in_current_cluster = artists_clusters[artists_clusters[\"cluster\"] == index_cluster][\"artist\"]\n",
    "    artists_cosine_length = pd.DataFrame(\n",
    "        {\n",
    "            'artist': artists_in_current_cluster,\n",
    "            'length_to_center': artists_in_current_cluster.apply(\n",
    "                lambda artist: cosine(centroids[index_cluster], ratings_normalized.loc[artist].values)\n",
    "            )\n",
    "        }\n",
    "    )\n",
    "    sorted_artists_cosine_length = artists_cosine_length.sort_values(axis=0, by='length_to_center')\n",
    "    top_10.append(sorted_artists_cosine_length.head(10))\n",
    "for i in top_10:\n",
    "    print(i)\n",
    "    print()"
   ],
   "metadata": {
    "collapsed": false,
    "ExecuteTime": {
     "end_time": "2025-06-15T11:25:10.140314800Z",
     "start_time": "2025-06-15T11:25:10.068663300Z"
    }
   },
   "id": "31402efff34fdd41",
   "execution_count": 44
  },
  {
   "cell_type": "markdown",
   "source": [
    "**Ответ:** Как мы видим, смысл у кластеров точно есть, по крайней мере я его увидел. \n",
    "В классе \"0\" собран классический американский реп, который стал известен во всем мире. \n",
    "Класс \"1\" - поп-рок и поп-панк, фанк-рок, хард-рок.\n",
    "Класс \"2\" - панк-рок, инди-рок, поп-панк.\n",
    "Класс \"3\" - я бы сказал, саммый классический рок в своём истинном обличии, а также группы, которые его продвинули в массы. Рок-н-ролл, рок, альтернативный рок.\n",
    "Класс \"4\" - альтернативный рок, инди рок, арт-рок.\n",
    "\n",
    "В общем, только один класс чётко отделён от остальных, а 1-4 классы собрали в себя разные виды рока, но всё еще смогли поделиться. Я бы объединил 2 и 4 классы, тогда разбиение будет более чёткое.\n"
   ],
   "metadata": {
    "id": "GwioYtvAxqxT"
   },
   "id": "GwioYtvAxqxT"
  },
  {
   "cell_type": "markdown",
   "source": [
    "## Задание 6 (1 балл) Визуализация"
   ],
   "metadata": {
    "id": "TkBh9Dk2C_el"
   },
   "id": "TkBh9Dk2C_el"
  },
  {
   "cell_type": "markdown",
   "source": [
    "Хотелось бы как-то визуализировать полученную кластеризацию. Постройте точечные графики `plt.scatter` для нескольких пар признаков исполнителей, покрасив точки в цвета кластеров. Почему визуализации получились такими? Хорошо ли они отражают разделение на кластеры? Почему?"
   ],
   "metadata": {
    "id": "GzP-OoAZDony"
   },
   "id": "GzP-OoAZDony"
  },
  {
   "cell_type": "code",
   "source": [
    "import matplotlib.pyplot as plt\n",
    "\n",
    "user_pairs = [\n",
    "    (322, 52),\n",
    "    (1337, 42),\n",
    "    (38, 22)\n",
    "]\n",
    "\n",
    "fig, axes = plt.subplots(1, 3, figsize=(15, 5))\n",
    "\n",
    "colors = ['red', 'blue', 'green', 'purple', 'yellow']\n",
    "\n",
    "for i in range(len(user_pairs)):\n",
    "    x = ratings_normalized.iloc[:, user_pairs[i][0]]\n",
    "    y = ratings_normalized.iloc[:, user_pairs[i][1]]\n",
    "    for cluster in range(5):\n",
    "        mask = km.labels_ == cluster\n",
    "        axes[i].scatter(x[mask], y[mask], c=colors[cluster], label=f'Cluster {cluster}')\n",
    "    axes[i].set_xlabel(f'User {user_pairs[i][0]}')\n",
    "    axes[i].set_ylabel(f'User {user_pairs[i][1]}')\n",
    "    axes[i].set_title(f'User {user_pairs[i][0]} and User {user_pairs[i][1]}')\n",
    "    axes[i].legend()\n",
    "\n",
    "plt.tight_layout()\n",
    "plt.show()"
   ],
   "metadata": {
    "id": "HyVqnEQ3DWgm",
    "ExecuteTime": {
     "end_time": "2025-06-15T12:45:33.438176800Z",
     "start_time": "2025-06-15T12:45:33.101154600Z"
    }
   },
   "id": "HyVqnEQ3DWgm",
   "execution_count": 51,
   "outputs": [
    {
     "data": {
      "text/plain": "<Figure size 1500x500 with 3 Axes>",
      "image/png": "[encoded data removed]"
     },
     "metadata": {},
     "output_type": "display_data"
    }
   ]
  },
  {
   "cell_type": "markdown",
   "source": [
    "**Ответ:** \n",
    "Почему визуализации получились такими? \n",
    "- Потому что мы рассматриваем всего лишь двух случайных людей, у которых слишком мало совпадений музыкальных вкусов. Первый график выродился в точки на оси ох, потому что 52 пользователь ничего не слушал (вообще ничего... Я проверил по исходным данным, это правда), значит все его значения - 0, остальные - доли прослушивания 322 пользователя. Второй и третий - похожи, потому что являются типичным представлением наших графиков. Из-за малого шанса совпадения вкусов (чтобы один и второй пользователь слушали одного исполнителя), мы получаем картину, где данные раскидались по осям. Однако, даже так можно увидеть кластеризацию: на 3-ем графике у 38 пользователя почти всегда слушались песни из 3 кластера, а у 22 пользователя - из 4, 2 и 1 кластеров. На 2-ом графике они перемешались. \n",
    "\n",
    "Хорошо ли они отражают разделение на кластеры? Почему? \n",
    "- Нет, потому что наша выборка свойств слишком мала (2 человека), однако это единственный способ отобразить наши данные в 2д график без потерь"
   ],
   "metadata": {
    "id": "O5t7YabAFPe4"
   },
   "id": "O5t7YabAFPe4"
  },
  {
   "cell_type": "markdown",
   "source": [
    "Для визуализации данных высокой размерности существует метод t-SNE (стохастическое вложение соседей с t-распределением). Данный метод является нелинейным методом снижения размерности: каждый объект высокой размерности будет моделироваться объектов более низкой (например, 2) размерности таким образом, чтобы похожие объекты моделировались близкими, непохожие - далекими с большой вероятностью.\n",
    "\n",
    "Примените `TSNE` из библиотеки `sklearn` и визуализируйте полученные объекты, покрасив их в цвета их кластеров"
   ],
   "metadata": {
    "id": "ZuPjFHu4GuHK"
   },
   "id": "ZuPjFHu4GuHK"
  },
  {
   "cell_type": "code",
   "source": [
    "from sklearn.manifold import TSNE\n",
    "\n",
    "tsne = TSNE(n_components=2)\n",
    "reduced_data = tsne.fit_transform(ratings_normalized)\n",
    "\n",
    "plt.figure(figsize=(12, 12))\n",
    "for cluster in range(5):\n",
    "    mask = km.labels_ == cluster\n",
    "    plt.scatter(reduced_data[mask, 0], reduced_data[mask, 1], c=colors[cluster], label=f'Cluster {cluster}')\n",
    "plt.xlabel('TSNE component 1')\n",
    "plt.ylabel('TSNE component 2')\n",
    "plt.legend()\n",
    "plt.show()"
   ],
   "metadata": {
    "id": "CVNPXKvcH7uV",
    "ExecuteTime": {
     "end_time": "2025-06-15T13:10:30.963604700Z",
     "start_time": "2025-06-15T13:10:29.362601600Z"
    }
   },
   "id": "CVNPXKvcH7uV",
   "execution_count": 60,
   "outputs": [
    {
     "data": {
      "text/plain": "<Figure size 1200x1200 with 1 Axes>",
      "image/png": "[encoded data removed]"
     },
     "metadata": {},
     "output_type": "display_data"
    }
   ]
  },
  {
   "cell_type": "markdown",
   "source": [
    "## Задание 7 (1 балл) Подбор гиперпараметров"
   ],
   "metadata": {
    "id": "Mi1frYgFJCrT"
   },
   "id": "Mi1frYgFJCrT"
  },
  {
   "cell_type": "markdown",
   "source": [
    "Подберите оптимальное количество кластеров (максимум 100 кластеров) с использованием индекса Силуэта. Зафиксируйте `random_state=42`"
   ],
   "metadata": {
    "id": "7UKDZt-bAokD"
   },
   "id": "7UKDZt-bAokD"
  },
  {
   "cell_type": "code",
   "source": [
    "from sklearn.metrics import silhouette_score\n",
    "\n",
    "# -- YOUR CODE HERE --"
   ],
   "metadata": {
    "id": "S4CxV_XJAy0A"
   },
   "id": "S4CxV_XJAy0A",
   "execution_count": null,
   "outputs": []
  },
  {
   "cell_type": "markdown",
   "source": [
    "Выведите исполнителей, ближайших с центроидам (аналогично заданию 5). Как соотносятся результаты? Остался ли смысл кластеров прежним? Расскажите про смысл 1-2 интересных кластеров, если он изменился и кластеров слишком много, чтобы рассказать про все."
   ],
   "metadata": {
    "id": "J81KdOFtJORV"
   },
   "id": "J81KdOFtJORV"
  },
  {
   "cell_type": "code",
   "source": [
    "# -- YOUR CODE HERE --"
   ],
   "metadata": {
    "id": "HMY-058kBqO0"
   },
   "id": "HMY-058kBqO0",
   "execution_count": null,
   "outputs": []
  },
  {
   "cell_type": "markdown",
   "source": [
    "**Ответ:** # -- YOUR ANSWER HERE --"
   ],
   "metadata": {
    "id": "LeWEK2QsJkiX"
   },
   "id": "LeWEK2QsJkiX"
  },
  {
   "cell_type": "markdown",
   "source": [
    "Сделайте t-SNE визуализацию полученной кластеризации."
   ],
   "metadata": {
    "id": "YluT0kiGPe4j"
   },
   "id": "YluT0kiGPe4j"
  },
  {
   "cell_type": "code",
   "source": [
    "# -- YOUR CODE HERE --"
   ],
   "metadata": {
    "id": "00rY7Z6XPfPa"
   },
   "id": "00rY7Z6XPfPa",
   "execution_count": null,
   "outputs": []
  },
  {
   "cell_type": "markdown",
   "source": [
    "Если кластеров получилось слишком много и визуально цвета плохо отличаются, покрасьте только какой-нибудь интересный кластер из задания выше (`c = (labels == i)`). Хорошо ли этот кластер отражается в визуализации?"
   ],
   "metadata": {
    "id": "Eo8H1sNqQqiF"
   },
   "id": "Eo8H1sNqQqiF"
  },
  {
   "cell_type": "code",
   "source": [
    "# -- YOUR CODE HERE --"
   ],
   "metadata": {
    "id": "E4oXA3qTQwWT"
   },
   "id": "E4oXA3qTQwWT",
   "execution_count": null,
   "outputs": []
  },
  {
   "cell_type": "markdown",
   "source": [
    "**Ответ:** # -- YOUR ANSWER HERE --"
   ],
   "metadata": {
    "id": "SHxur6z7Q0fu"
   },
   "id": "SHxur6z7Q0fu"
  }
 ],
 "metadata": {
  "kernelspec": {
   "display_name": "Python 3 (ipykernel)",
   "language": "python",
   "name": "python3"
  },
  "language_info": {
   "codemirror_mode": {
    "name": "ipython",
    "version": 3
   },
   "file_extension": ".py",
   "mimetype": "text/x-python",
   "name": "python",
   "nbconvert_exporter": "python",
   "pygments_lexer": "ipython3",
   "version": "3.9.1"
  },
  "colab": {
   "provenance": []
  }
 },
 "nbformat": 4,
 "nbformat_minor": 5
}
