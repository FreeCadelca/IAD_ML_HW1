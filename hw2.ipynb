{
 "cells": [
  {
   "cell_type": "code",
   "execution_count": 31,
   "id": "initial_id",
   "metadata": {
    "collapsed": true,
    "ExecuteTime": {
     "end_time": "2025-02-05T14:01:35.478417200Z",
     "start_time": "2025-02-05T14:01:35.459129200Z"
    }
   },
   "outputs": [
    {
     "name": "stdout",
     "output_type": "stream",
     "text": [
      "      Account ID         Username   Platform  Follower Count  Posts Per Week  Engagement Rate  Ad Spend (USD)  Conversion Rate  Campaign Reach\n",
      "2403        2404           eric65   Facebook          999982               6           0.0642          884.06           0.0281           17312\n",
      "4920        4921      teresaellis    Twitter          999919               6           0.0834          411.63           0.0460            3975\n",
      "5838        5839     edwardthomas     TikTok          999739               7           0.0642          630.77           0.0325           35523\n",
      "8685        8686  alexandersamuel  Instagram          999726               3           0.0834          687.61           0.0205           11050\n",
      "9684        9685           sriley    Twitter          999442               3           0.0834          206.84           0.0225           12783\n",
      "3965        3966         lrodgers  Instagram          999351               1           0.0834          565.07           0.0335           12391\n",
      "4234        4235    andradewesley     TikTok          999234               5           0.0834          872.77           0.0481           17188\n",
      "3039        3040          toneill   LinkedIn          999055               4           0.0642          799.49           0.0174           21862\n",
      "6359        6360    andrewgregory   LinkedIn          998968               7           0.1020          797.64           0.0351           15552\n",
      "2159        2160     ashleycooper   LinkedIn          998925               6           0.0856          474.46           0.0156           45956\n",
      "2575        2576     williamwyatt     TikTok          998623               6           0.0856          477.98           0.0250           43299\n",
      "7576        7577       peggymunoz    Twitter          998216               6           0.0642          456.61           0.0456           22037\n",
      "7350        7351     patricknoble   Facebook          997915               3           0.0834          429.01           0.0182           25985\n",
      "2189        2190           jbrown  Instagram          997844               5           0.0642          505.61           0.0202           14717\n",
      "1689        1690      chavezjason   Facebook          997512               7           0.0834          993.20           0.0397           45717 997512\n"
     ]
    }
   ],
   "source": [
    "import pandas as pd\n",
    "import numpy as np\n",
    "\n",
    "df = pd.read_csv(\"data.csv\")\n",
    "pd.set_option('display.max_columns', 12)\n",
    "pd.set_option('display.width', 300)\n",
    "\n",
    "table_top_3 = df.sort_values(\"Follower Count\", ascending=False).groupby(\"Platform\").head(3)\n",
    "# table_top_3 = df.groupby(\"Platform\", group_keys=False).apply(lambda x: x.nlargest(3, \"Follower Count\"))\n",
    "print(table_top_3, table_top_3[\"Follower Count\"].min())"
   ]
  }
 ],
 "metadata": {
  "kernelspec": {
   "display_name": "Python 3",
   "language": "python",
   "name": "python3"
  },
  "language_info": {
   "codemirror_mode": {
    "name": "ipython",
    "version": 2
   },
   "file_extension": ".py",
   "mimetype": "text/x-python",
   "name": "python",
   "nbconvert_exporter": "python",
   "pygments_lexer": "ipython2",
   "version": "2.7.6"
  }
 },
 "nbformat": 4,
 "nbformat_minor": 5
}
