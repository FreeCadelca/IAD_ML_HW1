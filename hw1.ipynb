{
 "cells": [
  {
   "cell_type": "code",
   "execution_count": 1,
   "id": "initial_id",
   "metadata": {
    "collapsed": true,
    "ExecuteTime": {
     "end_time": "2025-02-01T13:29:54.619542800Z",
     "start_time": "2025-02-01T13:29:54.025957900Z"
    }
   },
   "outputs": [],
   "source": [
    "import numpy as np"
   ]
  },
  {
   "cell_type": "markdown",
   "source": [
    "<b>Задание 1</b>\n",
    "Напишите функцию, возвращающую округленную взвешенную сумму оценок по данным оценкам и весам. В нашем случае вес экзамена равен 0.3, вес домашек - 0.4, вес контрольной - 0.2, вес самостоятельных - 0.1. Например, если за экзамен у вас 7, за домашки 10, за контрольную 8, а за самостоятельные 6, то вы получите отличную оценку 8!\n",
    "\n",
    "Обратите внимание, что на вход приходит всегда двумерный массив. В нем в каждой строке - оценки одного конкретного студента. От вас требуется вернуть итоговую оценку для всех студентов в массиве."
   ],
   "metadata": {
    "collapsed": false
   },
   "id": "45bd56224a354ed5"
  },
  {
   "cell_type": "code",
   "outputs": [],
   "source": [
    "def result_mark(weights: np.array, marks: np.array) -> int:\n",
    "    return np.round(np.matmul(marks, weights))\n",
    "\n",
    "\n",
    "weights = np.array([0.3, 0.4, 0.2, 0.1])\n",
    "marks = np.array([[7, 10, 8, 6], [6, 9, 7, 6]])\n",
    "assert np.allclose(result_mark(weights, marks), np.array([8, 7]))\n",
    "\n",
    "weights = np.array([0.3, 0.4, 0.2, 0.1])\n",
    "marks = np.array([[7, 0, 8, 6]])\n",
    "assert np.allclose(result_mark(weights, marks), np.array([4]))"
   ],
   "metadata": {
    "collapsed": false,
    "ExecuteTime": {
     "end_time": "2025-02-01T13:29:54.629613Z",
     "start_time": "2025-02-01T13:29:54.619542800Z"
    }
   },
   "id": "91c25d7b6838b2ab",
   "execution_count": 2
  },
  {
   "cell_type": "markdown",
   "source": [
    "<b>Задание 2</b>\n",
    "Напишите функцию, которая каждое четное число в массиве заменяет на его квадрат (вторую степень), а нечетное - на его синус. Округлите все значения в итоговом массиве до двух знаков после запятой."
   ],
   "metadata": {
    "collapsed": false
   },
   "id": "cb8a6405ed73b014"
  },
  {
   "cell_type": "code",
   "outputs": [],
   "source": [
    "def change_array(array: np.array) -> np.array:\n",
    "    return np.where(array % 2 == 0, array * array, np.round(np.sin(array), 2))\n",
    "\n",
    "\n",
    "array = np.array([2, 5, 1, 0, -6, 22, 213431])\n",
    "assert np.allclose(change_array(array), np.array([4.0, -0.96, 0.84, 0.0, 36.0, 484.0, -0.58]))\n",
    "\n",
    "array = np.array([3, 12, 15, -97, 6])\n",
    "assert np.allclose(change_array(array), np.array([0.14, 144.0, 0.65, -0.38, 36.0]))"
   ],
   "metadata": {
    "collapsed": false,
    "ExecuteTime": {
     "end_time": "2025-02-01T13:29:54.638532Z",
     "start_time": "2025-02-01T13:29:54.623885400Z"
    }
   },
   "id": "936a49f0a58ec9ce",
   "execution_count": 3
  },
  {
   "cell_type": "markdown",
   "source": [
    "<b>Задание 3</b>\n",
    "Напишите функцию, которая вычисляет разность каждого элемента с предыдущим (для самого первого считайте, что его разница с \"предыдущим\" нулевая) в виде нового массива и возвращает вектор, в котором каждый новый элемент - сумма всех предыдущих из полученного нового массива."
   ],
   "metadata": {
    "collapsed": false
   },
   "id": "c285338e6111db51"
  },
  {
   "cell_type": "code",
   "outputs": [],
   "source": [
    "def cumulative_sum_of_differences(array):\n",
    "    return np.cumsum(np.concatenate((np.array([0]), np.diff(array))))\n",
    "\n",
    "\n",
    "array = np.array([3, 6, 2, 8])\n",
    "assert np.allclose(cumulative_sum_of_differences(array), np.array([0, 3, -1, 5]))\n",
    "\n",
    "array = np.array([5, 1])\n",
    "assert np.allclose(cumulative_sum_of_differences(array), np.array([0, -4]))"
   ],
   "metadata": {
    "collapsed": false,
    "ExecuteTime": {
     "end_time": "2025-02-01T13:29:54.641066400Z",
     "start_time": "2025-02-01T13:29:54.631678300Z"
    }
   },
   "id": "acfcfeae1cec1e3c",
   "execution_count": 4
  },
  {
   "cell_type": "markdown",
   "source": [
    "<b>Задание 4</b>\n",
    "Напишите функцию, которая транспонирует двумерный массив, затем делает из него одномерный (reshape), переводит все элементы массива в int8 и выводит его отсортированным по убыванию."
   ],
   "metadata": {
    "collapsed": false
   },
   "id": "f9020b677b2c54f2"
  },
  {
   "cell_type": "code",
   "outputs": [],
   "source": [
    "def flatten_and_sort_transposed(array: np.array) -> np.array:\n",
    "    return np.sort(np.reshape(np.transpose(array), -1).astype(np.int8))[::-1]\n",
    "\n",
    "\n",
    "array = np.array([[256, -10], [-381, 112]])\n",
    "assert np.allclose(flatten_and_sort_transposed(array), np.array([112, 0, -10, -125]))\n",
    "\n",
    "array = np.array([[9, 8, 7], [3, 6, 129]])\n",
    "assert np.allclose(flatten_and_sort_transposed(array), np.array([9, 8, 7, 6, 3, -127]))"
   ],
   "metadata": {
    "collapsed": false,
    "ExecuteTime": {
     "end_time": "2025-02-01T13:29:54.647719500Z",
     "start_time": "2025-02-01T13:29:54.641066400Z"
    }
   },
   "id": "e228e8ca66fd7689",
   "execution_count": 5
  },
  {
   "cell_type": "markdown",
   "source": [
    "<b>Задание 5</b>\n",
    "Напишите функцию, которая удаляет из массива все строки, среднее значение в которых больше общего среднего значения по всему массиву."
   ],
   "metadata": {
    "collapsed": false
   },
   "id": "7655a7dcabc994f6"
  },
  {
   "cell_type": "code",
   "outputs": [],
   "source": [
    "def filter_rows_by_mean(array: np.array):\n",
    "    return np.delete(array, np.where(np.mean(array, axis=1) > np.mean(array)), axis=0)\n",
    "\n",
    "\n",
    "array = np.array([[1, 2, 3], [7, 8, 9], [4, 5, 6]])\n",
    "res = filter_rows_by_mean(array)\n",
    "assert res.ndim == 2\n",
    "assert np.allclose(res, np.array([[1, 2, 3], [4, 5, 6]]))\n",
    "\n",
    "array = np.array([[10, 20], [5, 5], [15, 15]])\n",
    "res = filter_rows_by_mean(array)\n",
    "assert res.ndim == 2\n",
    "assert np.allclose(res, np.array([[5, 5]]))"
   ],
   "metadata": {
    "collapsed": false,
    "ExecuteTime": {
     "end_time": "2025-02-01T13:29:54.655278500Z",
     "start_time": "2025-02-01T13:29:54.647719500Z"
    }
   },
   "id": "92baf81ec679ea60",
   "execution_count": 6
  },
  {
   "cell_type": "markdown",
   "source": [
    "<b>Задание 6</b>\n",
    "Напишите функцию, которая принимает на вход число - размер массива (квадратная матрица), который заполнен по принипу щахматной доски нулями и единицами. Первой (слева сверху) идет всегда единица. Напомним, что на шахматной доске белые и черные ячейки чередуются (в данном задании чередуются нули и единицы)."
   ],
   "metadata": {
    "collapsed": false
   },
   "id": "8404da2d375601da"
  },
  {
   "cell_type": "code",
   "outputs": [],
   "source": [
    "def create_checkerboard(number):\n",
    "    f = np.where(np.arange(number) % 2 == 0, 1, 0)\n",
    "    s = np.where(np.arange(number) % 2 == 0, 0, 1)\n",
    "    part1 = np.tile(np.array(np.concatenate((f, s))), number // 2)  # duplicated f+s n//2 times\n",
    "    part2 = np.tile(np.array(f), number % 2)  # if there are not odd number, we should add one f array\n",
    "    return np.reshape(np.concatenate((part1, part2)), (number, number))\n",
    "\n",
    "number = 3\n",
    "assert np.allclose(create_checkerboard(number) - np.array([[1, 0, 1], [0, 1, 0], [1, 0, 1]]),\n",
    "                   np.zeros((number, number)))\n",
    "\n",
    "number = 4\n",
    "assert np.allclose(create_checkerboard(number) - np.array([[1, 0, 1, 0], [0, 1, 0, 1], [1, 0, 1, 0], [0, 1, 0, 1]]),\n",
    "                   np.zeros((number, number)))"
   ],
   "metadata": {
    "collapsed": false,
    "ExecuteTime": {
     "end_time": "2025-02-01T13:29:54.679477900Z",
     "start_time": "2025-02-01T13:29:54.653095300Z"
    }
   },
   "id": "bff1c90e7fe2e660",
   "execution_count": 7
  },
  {
   "cell_type": "markdown",
   "source": [
    "<b>Задание 7</b>\n",
    "Напишите функцию, которая соритрует строки двумерного массива по значению в первом (начиная с нуля) столбце (по возрастанию)."
   ],
   "metadata": {
    "collapsed": false
   },
   "id": "dddc140553a83135"
  },
  {
   "cell_type": "code",
   "outputs": [],
   "source": [
    "def sort_rows_by_second_column(array):\n",
    "    return array[array[:, 1].argsort()]\n",
    "\n",
    "array = np.array([[10, 2], [3, 5], [7, 1]])\n",
    "assert np.allclose(sort_rows_by_second_column(array), np.array([[7, 1], [10, 2], [3, 5]]))\n",
    "\n",
    "array = np.array([[5, 8, 1], [10, 3, 9], [2, 7, 0], [6, -1, 5]])\n",
    "assert np.allclose(sort_rows_by_second_column(array), np.array([[6, -1, 5], [10, 3, 9], [2, 7, 0], [5, 8, 1]]))"
   ],
   "metadata": {
    "collapsed": false,
    "ExecuteTime": {
     "end_time": "2025-02-01T13:29:54.680490400Z",
     "start_time": "2025-02-01T13:29:54.658507900Z"
    }
   },
   "id": "daec2e4d406bd20",
   "execution_count": 8
  },
  {
   "cell_type": "markdown",
   "source": [
    "<b>Задание 8</b>\n",
    "Напишите функцию, которая вычисляет сумму элементов побочной диагонали квадратной матрицы."
   ],
   "metadata": {
    "collapsed": false
   },
   "id": "a892209174806cfc"
  },
  {
   "cell_type": "code",
   "outputs": [],
   "source": [
    "def sum_counterdiagonal_elements(array):\n",
    "    return sum(array[:,::-1].diagonal())\n",
    "\n",
    "array = np.array([[5, 8, 1], [10, 3, 9], [2, 7, 0]])\n",
    "assert sum_counterdiagonal_elements(array) == 6\n",
    "\n",
    "array = np.array([[-4, -1, -1, 7], [6, -10, 5, -9], [3, -8, 6, 8], [-1, -6, 7, -10]])\n",
    "assert sum_counterdiagonal_elements(array) == 3"
   ],
   "metadata": {
    "collapsed": false,
    "ExecuteTime": {
     "end_time": "2025-02-01T13:29:54.680490400Z",
     "start_time": "2025-02-01T13:29:54.663907200Z"
    }
   },
   "id": "b7ba5ebf0375573a",
   "execution_count": 9
  },
  {
   "cell_type": "markdown",
   "source": [
    "<b>Задание 9</b>\n",
    "Напишите функцию, которая принимает на вход три числа (начало отрезка, конец отрезка, количество точек на отрезке). Данная функция генерирует указанное количество точек равномерно на отрезке с указанными концами (точки равноудалены друг от друга). Затем функция генерирует другой массив - натуральный логарифм от всех точек отрезка плюс единица (ln(point+1)). Возвращает функция массив пар точек вида (точка на отрезке, ее логарифм). Каждое значение в возвращаемом массиве должно быть округлено до двух знаков после запятой."
   ],
   "metadata": {
    "collapsed": false
   },
   "id": "a77bfe6276565280"
  },
  {
   "cell_type": "code",
   "outputs": [],
   "source": [
    "def generate_logarithm_points(start, end, count):\n",
    "    points = np.linspace(start, end, num=count)\n",
    "    return np.round(np.stack((points, np.log(points + 1)), axis=1), 2)\n",
    "\n",
    "start = 1\n",
    "end = 10\n",
    "count = 5\n",
    "assert np.allclose(generate_logarithm_points(start, end, count), np.array([[1., 0.69], [3.25, 1.45], [5.5 , 1.87], [7.75, 2.17], [10., 2.4]]))\n",
    "\n",
    "start = 5\n",
    "end = 12\n",
    "count = 4\n",
    "assert np.allclose(generate_logarithm_points(start, end, count), np.array([[5., 1.79], [7.33, 2.12], [9.67, 2.37], [12., 2.56]]))"
   ],
   "metadata": {
    "collapsed": false,
    "ExecuteTime": {
     "end_time": "2025-02-01T13:46:53.616838300Z",
     "start_time": "2025-02-01T13:46:53.605657600Z"
    }
   },
   "id": "65e59721c4e567ca",
   "execution_count": 14
  },
  {
   "cell_type": "markdown",
   "source": [
    "<b>Задание 10</b>\n",
    "Напишите функцию, которая нормализует входной двумерный массив.\n",
    "\n",
    "Под нормализацией в данном задании подразумевается перевод всех чисел массива на отрезок [0, 1]. Очевидно, недостаточно просто вычесть/прибавить лишнее, чтобы остались числа на нужном отрезке. Суть нормализации массива в том, чтобы не потерять информацию о его элементах и их соотношениях. Потому, необходимо сохранить пропорции расстояний между каждым числом - спроецировать все точки на указанный отрезок. Такой метод масштабирования массива называется MinMaxScaling. Само название дает подсказку, как нужно решить задачу. Дробные числа округляйте до двух знаков после запятой.\n",
    "\n",
    "Будьте осторожны с делением..."
   ],
   "metadata": {
    "collapsed": false
   },
   "id": "a3aa23c0842b851a"
  },
  {
   "cell_type": "code",
   "outputs": [],
   "source": [
    "def min_max_scale(array):\n",
    "    return np.round(np.divide(array - np.min(array), np.max(array) - np.min(array)), 2)\n",
    "\n",
    "array = np.array([[1, 2, 3], [4, 5, 6], [7, 8, 9]])\n",
    "assert np.allclose(min_max_scale(array), np.array([[0. , 0.12, 0.25], [0.38, 0.5 , 0.62], [0.75, 0.88, 1.]]))\n",
    "\n",
    "array = np.array([[0, 1, 2], [3, 4, 5]])\n",
    "assert np.allclose(min_max_scale(array), np.array([[0., 0.2, 0.4], [0.6, 0.8, 1.]]))"
   ],
   "metadata": {
    "collapsed": false,
    "ExecuteTime": {
     "end_time": "2025-02-01T13:52:09.294694Z",
     "start_time": "2025-02-01T13:52:09.276326900Z"
    }
   },
   "id": "d07acd95beee4cc1",
   "execution_count": 17
  }
 ],
 "metadata": {
  "kernelspec": {
   "display_name": "Python 3",
   "language": "python",
   "name": "python3"
  },
  "language_info": {
   "codemirror_mode": {
    "name": "ipython",
    "version": 2
   },
   "file_extension": ".py",
   "mimetype": "text/x-python",
   "name": "python",
   "nbconvert_exporter": "python",
   "pygments_lexer": "ipython2",
   "version": "2.7.6"
  }
 },
 "nbformat": 4,
 "nbformat_minor": 5
}
